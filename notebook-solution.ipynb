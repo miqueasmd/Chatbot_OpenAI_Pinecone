{
 "cells": [
  {
   "cell_type": "markdown",
   "id": "8c8fde4c-9222-4265-b72b-8d7693520250",
   "metadata": {},
   "source": [
    "# Building Chatbots with the OpenAI API and Pinecone"
   ]
  },
  {
   "cell_type": "markdown",
   "id": "3e302e1c-4c18-4c44-87fd-ba935c3a0853",
   "metadata": {},
   "source": [
    "In this project, we aim to explore the fascinating world of AI chatbots. We will be using LangChain, OpenAI, and Pinecone vector DB, to build a chatbot capable of learning from the external world using **R**etrieval **A**ugmented **G**eneration (RAG).\n",
    "\n",
    "We will be using a dataset sourced from the Llama 2 ArXiv paper and other related papers to help our chatbot answer questions about the latest and greatest in the world of GenAI.\n",
    "\n",
    "This project is designed for learners who have a basic understanding of the OpenAI API and Pinecone, as covered in our previous projects. It's a great opportunity for those interested in AI, machine learning, and NLP to get hands-on experience with building a chatbot with RAG.\n",
    "\n",
    "![rag](rag.png)\n",
    "\n",
    "By the end of this project, you will have a functioning chatbot and RAG pipeline that can hold a conversation and provide informative responses based on a knowledge base. This project is a stepping stone towards understanding and building more complex AI systems in the future."
   ]
  },
  {
   "cell_type": "markdown",
   "id": "b7725f73-fc8f-4186-869e-fe2cd30ac48c",
   "metadata": {},
   "source": [
    "### Maintenance note, May 2024\n",
    "\n",
    "Since this code-along was released, the Python packages for working with the Pinecone and OpenAI APIs have changed their syntax. The instructions, hints, and code have been updated to use the latest syntax, but the video has not been updated. Consequently, it is now slightly out of sync. Trust the workbook, not the video."
   ]
  },
  {
   "cell_type": "markdown",
   "id": "8231d2c6-275e-4399-b7cd-84e112831d08",
   "metadata": {},
   "source": [
    "## Before you begin"
   ]
  },
  {
   "cell_type": "markdown",
   "id": "785d7fac-edb2-482f-be2b-c63dc2882103",
   "metadata": {},
   "source": [
    "You'll need to get an [OpenAI API key](https://platform.openai.com/account/api-keys) and [Pinecone API key](https://app.pinecone.io). You can refer to *getting-started.ipynb* for steps on how to store these API keys in Workspace."
   ]
  },
  {
   "cell_type": "markdown",
   "id": "a9274661-8d8c-4cc5-901e-5fc497866b89",
   "metadata": {},
   "source": [
    "## Task 0: Setup"
   ]
  },
  {
   "cell_type": "markdown",
   "id": "2cf847fd-f8f8-49f6-9b43-0eb098239072",
   "metadata": {},
   "source": [
    "Before we start building our chatbot, we need to install some Python libraries. Here's a brief overview of what each library does:\n",
    "\n",
    "- **openai**: This is the official OpenAI Python client. We'll use it to interact with the GPT large language model.\n",
    "- **pinecone-client**: This is the official Pinecone Python client. We'll use it to interact with the Pinecone vector DB where we will store our chatbot's knowledge base.\n",
    "- **langchain**, **langchain-openai**, **langchain-pinecone**: This is a library for GenAI. We'll use it to chain together different language models and components for our chatbot.\n",
    "- **tiktoken**: This is a library from OpenAI that allows you to count the number of tokens in a text string without making an API call.\n",
    "- **datasets**: This library provides a vast array of datasets for machine learning. We'll use it to load our knowledge base for the chatbot.\n",
    "\n",
    "You can install these libraries using pip like so:"
   ]
  },
  {
   "cell_type": "code",
   "execution_count": null,
   "id": "f96e3639-1515-47ce-9cab-21b2c8a43c64",
   "metadata": {
    "collapsed": true,
    "executionCancelledAt": null,
    "executionTime": 48856,
    "jupyter": {
     "outputs_hidden": true,
     "source_hidden": false
    },
    "lastExecutedAt": 1716001867165,
    "lastExecutedByKernel": "9e75850b-3e18-4e02-a641-a37c02b4177f",
    "lastScheduledRunId": null,
    "lastSuccessfullyExecutedCode": "# Install the openai package, locked to version 1.27\n!pip install openai==1.27\n\n# Install the datasets package, locked to version\n!pip install pinecone-client==4.0.0\n\n# Install the langchain package, locked to version 0.1.19\n!pip install langchain==0.1.19\n\n# Install the langchain-openai package, locked to version 0.1.6\n!pip install langchain-openai==0.1.6\n\n# Update the langchain-pinecone package, locked to version 0.1.0\n!pip install langchain-pinecone==0.1.0\n\n# Update the tiktoken package, locked to version 0.7.0\n!pip install tiktoken==0.7.0\n\n# Install the datasets package, locked to version 2.19.1\n!pip install datasets==2.19.1\n\n# Update the typing_extensions package, locked to version 4.11.0\n!pip install typing_extensions==4.11.0",
    "outputsMetadata": {
     "0": {
      "height": 579,
      "type": "stream"
     }
    }
   },
   "outputs": [],
   "source": [
    "# Install the openai package, locked to version 1.27\n",
    "!pip install openai==1.27\n",
    "\n",
    "# Install the datasets package, locked to version\n",
    "!pip install pinecone-client==4.0.0\n",
    "\n",
    "# Install the langchain package, locked to version 0.1.19\n",
    "!pip install langchain==0.1.19\n",
    "\n",
    "# Install the langchain-openai package, locked to version 0.1.6\n",
    "!pip install langchain-openai==0.1.6\n",
    "\n",
    "# Update the langchain-pinecone package, locked to version 0.1.0\n",
    "!pip install langchain-pinecone==0.1.0\n",
    "\n",
    "# Update the tiktoken package, locked to version 0.7.0\n",
    "!pip install tiktoken==0.7.0\n",
    "\n",
    "# Install the datasets package, locked to version 2.19.1\n",
    "!pip install datasets==2.19.1\n",
    "\n",
    "# Update the typing_extensions package, locked to version 4.11.0\n",
    "!pip install typing_extensions==4.11.0"
   ]
  },
  {
   "cell_type": "markdown",
   "id": "92a9caca-70fd-4ac0-aa15-1bee55c456d3",
   "metadata": {},
   "source": [
    "## Task 1: Building a Chatbot"
   ]
  },
  {
   "cell_type": "markdown",
   "id": "b1fcd794-b29c-4010-8be0-651a452b2044",
   "metadata": {},
   "source": [
    "We will be relying heavily on the LangChain library to bring together the different components needed for our chatbot. To get more familiar with the library let's first create a chatbot _without_ RAG.\n"
   ]
  },
  {
   "cell_type": "markdown",
   "id": "4cc8e24a-bd51-483a-81a6-e0c2d1e02c35",
   "metadata": {},
   "source": [
    "### Instructions\n",
    "\n",
    "Initialize the chat model object.\n",
    "\n",
    "- *Make sure you have defined the `OPENAI_API_KEY` environment variable and connected it. See the 'Setting up DataLab Integrations' section of getting-started.ipynb.*\n",
    "- From the `langchain_openai` package, import `ChatOpenAI`.\n",
    "- Initialize a `ChatOpenAI` object with the `gpt-4o-mini` model. Assign to `chat`."
   ]
  },
  {
   "cell_type": "code",
   "execution_count": 3,
   "id": "f81d6d0e-986b-49f4-94e1-7315a7f0bd67",
   "metadata": {
    "executionCancelledAt": null,
    "executionTime": 2468,
    "lastExecutedAt": 1716001869635,
    "lastExecutedByKernel": "9e75850b-3e18-4e02-a641-a37c02b4177f",
    "lastScheduledRunId": null,
    "lastSuccessfullyExecutedCode": "# From the langchain_openai package, import ChatOpenAI\nfrom langchain_openai import ChatOpenAI\n\n# Initialize a ChatOpenAI object with the gpt-3.5-turbo model. Assign to chat.\nchat = ChatOpenAI(model_name=\"gpt-3.5-turbo\")"
   },
   "outputs": [],
   "source": [
    "# From the langchain_openai package, import ChatOpenAI\n",
    "from langchain_openai import ChatOpenAI\n",
    "\n",
    "# Initialize a ChatOpenAI object with the gpt-4o-mini model. Assign to chat.\n",
    "chat = ChatOpenAI(model_name=\"gpt-4o-mini\")"
   ]
  },
  {
   "cell_type": "markdown",
   "id": "ab269915-cec5-4015-a848-25ac67ac2b5a",
   "metadata": {},
   "source": [
    "### How are chats structured?\n",
    "\n",
    "Chats with OpenAI's `gpt-4o-mini` chat model are typically structured (in plain text) like this:\n",
    "\n",
    "```\n",
    "System: You are a helpful assistant.\n",
    "\n",
    "User: Hi AI, how are you today?\n",
    "\n",
    "Assistant: I'm great thank you. How can I help you?\n",
    "\n",
    "User: I'd like to understand string theory.\n",
    "\n",
    "Assistant:\n",
    "```\n",
    "\n",
    "The final `\"Assistant:\"` without a response is what would prompt the model to continue the conversation. In the official OpenAI `ChatCompletion` endpoint these would be passed to the model in a format like:\n",
    "\n",
    "```python\n",
    "[\n",
    "    {\"role\": \"system\", \"content\": \"You are a helpful assistant.\"},\n",
    "    {\"role\": \"user\", \"content\": \"Hi AI, how are you today?\"},\n",
    "    {\"role\": \"assistant\", \"content\": \"I'm great thank you. How can I help you?\"}\n",
    "    {\"role\": \"user\", \"content\": \"I'd like to understand string theory.\"}\n",
    "]\n",
    "```\n",
    "\n",
    "In LangChain there is a slightly different format. We use three _message_ objects like so:\n",
    "\n",
    "```python\n",
    "messages = [\n",
    "    SystemMessage(content=\"You are a helpful assistant.\"),\n",
    "    HumanMessage(content=\"Hi AI, how are you today?\"),\n",
    "    AIMessage(content=\"I'm great thank you. How can I help you?\"),\n",
    "    HumanMessage(content=\"I'd like to understand string theory.\")\n",
    "]\n",
    "```\n",
    "\n",
    "The format is very similar, we're just swapped the role of `\"user\"` for `HumanMessage`, and the role of `\"assistant\"` for `AIMessage`."
   ]
  },
  {
   "cell_type": "markdown",
   "id": "889de625-b7f6-493f-81a7-25e30bacb98b",
   "metadata": {},
   "source": [
    "### Instructions\n",
    "\n",
    "Create a conversation.\n",
    "\n",
    "- From langchain's schema module, import the three message types: `SystemMessage`, `HumanMessage`, and `AIMessage`.\n",
    "- Create a conversation as a list of messages. Assign to `messages`.\n",
    "    1. A system message with content `\"You are a helpful assistant.\"`\n",
    "    2. A human message with content `\"Hi AI, how are you today?\"`\n",
    "    3. An AI message with content `\"I'm great thank you. How can I help you?\"`\n",
    "    4. A human message with content `\"I'd like to understand string theory.\"`\n"
   ]
  },
  {
   "cell_type": "code",
   "execution_count": 4,
   "id": "8f542ae9-c4a0-41aa-a6b6-45585990c246",
   "metadata": {
    "executionCancelledAt": null,
    "executionTime": 51,
    "lastExecutedAt": 1716001869688,
    "lastExecutedByKernel": "9e75850b-3e18-4e02-a641-a37c02b4177f",
    "lastScheduledRunId": null,
    "lastSuccessfullyExecutedCode": "# From the langchain.schema module, import SystemMessage, HumanMessage, AIMessage\nfrom langchain.schema import (\n    SystemMessage,\n    HumanMessage,\n    AIMessage\n)\n\n# Create a conversation as a list of messages. Assign to messages.\nmessages = [\n    SystemMessage(content=\"You are a helpful assistant.\"),\n    HumanMessage(content=\"Hi AI, how are you today?\"),\n    AIMessage(content=\"I'm great thank you. How can I help you?\"),\n    HumanMessage(content=\"I'd like to understand string theory.\")\n]"
   },
   "outputs": [],
   "source": [
    "# From the langchain.schema module, import SystemMessage, HumanMessage, AIMessage\n",
    "from langchain.schema import (\n",
    "    SystemMessage,\n",
    "    HumanMessage,\n",
    "    AIMessage\n",
    ")\n",
    "\n",
    "# Create a conversation as a list of messages. Assign to messages.\n",
    "messages = [\n",
    "    SystemMessage(content=\"You are a helpful assistant.\"),\n",
    "    HumanMessage(content=\"Hi AI, how are you today?\"),\n",
    "    AIMessage(content=\"I'm great thank you. How can I help you?\"),\n",
    "    HumanMessage(content=\"I'd like to understand string theory.\")\n",
    "]"
   ]
  },
  {
   "cell_type": "markdown",
   "id": "7f6c51c7-bbbb-4f0f-b218-850221f3dcdf",
   "metadata": {},
   "source": [
    "We generate the next response from the AI by passing these messages to the `ChatOpenAI` object. You can call `chat` as though it is a function."
   ]
  },
  {
   "cell_type": "markdown",
   "id": "2a974f3e-c9ae-436c-880b-7634c334a786",
   "metadata": {},
   "source": [
    "### Instructions\n",
    "\n",
    "Chat with GPT.\n",
    "\n",
    "- Invoke a chat with GPT, passing the messages, and get a response. Assign to `res`.\n",
    "- Print the response."
   ]
  },
  {
   "cell_type": "markdown",
   "id": "0bafbb20-cdce-4709-aa7a-84c704fc42fa",
   "metadata": {},
   "source": [
    "<details>\n",
    "<summary>Code hints</summary>\n",
    "<p>\n",
    "    \n",
    "Invoke a chat with the `.invoke()` method of the `ChatOpenAI()` object, passing the list of messages.\n",
    "\n",
    "</p>\n",
    "</details>"
   ]
  },
  {
   "cell_type": "code",
   "execution_count": 5,
   "id": "47ad31bf-db2a-444b-a011-26e9336a4e1e",
   "metadata": {
    "executionCancelledAt": null,
    "executionTime": 2981,
    "lastExecutedAt": 1716001872669,
    "lastExecutedByKernel": "9e75850b-3e18-4e02-a641-a37c02b4177f",
    "lastScheduledRunId": null,
    "lastSuccessfullyExecutedCode": "# Invoke a chat with GPT, passing the messages\nres = chat.invoke(messages)\n\n# Print the response\nres"
   },
   "outputs": [
    {
     "data": {
      "text/plain": [
       "AIMessage(content='String theory is a theoretical framework in physics that attempts to reconcile quantum mechanics and general relativity, providing a unified description of fundamental forces and particles. Here are some key concepts to help you understand string theory:\\n\\n1. **Basic Idea**: In string theory, the fundamental particles of the universe (like electrons and quarks) are not point-like objects, but rather tiny, vibrating strings. The different vibrational modes of these strings correspond to different particles. For instance, one mode might represent an electron, while another might represent a quark.\\n\\n2. **Dimensions**: String theory posits that there are more dimensions than the familiar three dimensions of space and one of time. While we experience four dimensions, string theory suggests there could be as many as 10 or 11 dimensions. The extra dimensions are compactified or curled up in ways that make them difficult to detect.\\n\\n3. **Unification of Forces**: One of the goals of string theory is to unify all fundamental forces in nature, including gravity, electromagnetism, the weak nuclear force, and the strong nuclear force. In traditional physics, these forces are described by separate theories, but string theory aims to provide a single framework that encompasses them.\\n\\n4. **Supersymmetry**: Many versions of string theory incorporate the concept of supersymmetry, which proposes a symmetry between fermions (matter particles) and bosons (force-carrying particles). Supersymmetry predicts the existence of \"superpartners\" for every known particle, potentially providing new particles that could be discovered in high-energy physics experiments.\\n\\n5. **M-Theory**: M-theory is an extension of string theory that proposes the existence of 11 dimensions and incorporates different string theories into a single framework. It includes objects called membranes (or \"branes\") in addition to strings.\\n\\n6. **Challenges**: Despite its mathematical elegance and potential for unification, string theory faces significant challenges. One major issue is that it is difficult to test experimentally, as the energy scales at which string effects would become apparent are far beyond what current particle accelerators can achieve.\\n\\n7. **Mathematical Complexity**: String theory involves advanced mathematics, including geometry and topology, which can make it difficult to grasp fully without a strong background in these areas.\\n\\n8. **Current Research**: Research in string theory is ongoing, with physicists exploring its implications, seeking connections to observable phenomena, and trying to find ways to test its predictions.\\n\\nIn summary, string theory is a complex and ambitious attempt to describe the fundamental nature of the universe, proposing that everything is made of tiny, vibrating strings and aiming to unify all known forces and particles in a coherent theoretical framework. If you have more specific questions or topics within string theory that you\\'d like to explore, feel free to ask!', response_metadata={'token_usage': {'completion_tokens': 566, 'prompt_tokens': 51, 'total_tokens': 617, 'prompt_tokens_details': {'cached_tokens': 0, 'audio_tokens': 0}, 'completion_tokens_details': {'reasoning_tokens': 0, 'audio_tokens': 0, 'accepted_prediction_tokens': 0, 'rejected_prediction_tokens': 0}}, 'model_name': 'gpt-4o-mini', 'system_fingerprint': 'fp_7fcd609668', 'finish_reason': 'stop', 'logprobs': None}, id='run-c1efad29-8131-4267-8898-d591c6e8071d-0')"
      ]
     },
     "execution_count": 5,
     "metadata": {},
     "output_type": "execute_result"
    }
   ],
   "source": [
    "# Invoke a chat with GPT, passing the messages\n",
    "res = chat.invoke(messages)\n",
    "\n",
    "# Print the response\n",
    "res"
   ]
  },
  {
   "cell_type": "markdown",
   "id": "20487069-0c9e-4480-ba09-a6004686b3ba",
   "metadata": {},
   "source": [
    "Notice that the `AIMessage` object looks a bit like a dictionary. The most important element is `content`, which contains the chat text."
   ]
  },
  {
   "cell_type": "markdown",
   "id": "dd3463e9-26e8-4908-ab2c-aa78a147e79f",
   "metadata": {},
   "source": [
    "### Instructions\n",
    "\n",
    "Print only the contents of the response."
   ]
  },
  {
   "cell_type": "code",
   "execution_count": 6,
   "id": "38e8a99c-58ea-43ac-8918-64d42541a58d",
   "metadata": {
    "executionCancelledAt": null,
    "executionTime": 48,
    "lastExecutedAt": 1716001872717,
    "lastExecutedByKernel": "9e75850b-3e18-4e02-a641-a37c02b4177f",
    "lastScheduledRunId": null,
    "lastSuccessfullyExecutedCode": "print(res.content)",
    "outputsMetadata": {
     "0": {
      "height": 290,
      "type": "stream"
     }
    }
   },
   "outputs": [
    {
     "name": "stdout",
     "output_type": "stream",
     "text": [
      "String theory is a theoretical framework in physics that attempts to reconcile quantum mechanics and general relativity, providing a unified description of fundamental forces and particles. Here are some key concepts to help you understand string theory:\n",
      "\n",
      "1. **Basic Idea**: In string theory, the fundamental particles of the universe (like electrons and quarks) are not point-like objects, but rather tiny, vibrating strings. The different vibrational modes of these strings correspond to different particles. For instance, one mode might represent an electron, while another might represent a quark.\n",
      "\n",
      "2. **Dimensions**: String theory posits that there are more dimensions than the familiar three dimensions of space and one of time. While we experience four dimensions, string theory suggests there could be as many as 10 or 11 dimensions. The extra dimensions are compactified or curled up in ways that make them difficult to detect.\n",
      "\n",
      "3. **Unification of Forces**: One of the goals of string theory is to unify all fundamental forces in nature, including gravity, electromagnetism, the weak nuclear force, and the strong nuclear force. In traditional physics, these forces are described by separate theories, but string theory aims to provide a single framework that encompasses them.\n",
      "\n",
      "4. **Supersymmetry**: Many versions of string theory incorporate the concept of supersymmetry, which proposes a symmetry between fermions (matter particles) and bosons (force-carrying particles). Supersymmetry predicts the existence of \"superpartners\" for every known particle, potentially providing new particles that could be discovered in high-energy physics experiments.\n",
      "\n",
      "5. **M-Theory**: M-theory is an extension of string theory that proposes the existence of 11 dimensions and incorporates different string theories into a single framework. It includes objects called membranes (or \"branes\") in addition to strings.\n",
      "\n",
      "6. **Challenges**: Despite its mathematical elegance and potential for unification, string theory faces significant challenges. One major issue is that it is difficult to test experimentally, as the energy scales at which string effects would become apparent are far beyond what current particle accelerators can achieve.\n",
      "\n",
      "7. **Mathematical Complexity**: String theory involves advanced mathematics, including geometry and topology, which can make it difficult to grasp fully without a strong background in these areas.\n",
      "\n",
      "8. **Current Research**: Research in string theory is ongoing, with physicists exploring its implications, seeking connections to observable phenomena, and trying to find ways to test its predictions.\n",
      "\n",
      "In summary, string theory is a complex and ambitious attempt to describe the fundamental nature of the universe, proposing that everything is made of tiny, vibrating strings and aiming to unify all known forces and particles in a coherent theoretical framework. If you have more specific questions or topics within string theory that you'd like to explore, feel free to ask!\n"
     ]
    }
   ],
   "source": [
    "# Print the contents of the response\n",
    "print(res.content)"
   ]
  },
  {
   "cell_type": "markdown",
   "id": "7090e9e9-880d-4b29-909a-a9653474c8b1",
   "metadata": {},
   "source": [
    "Because `res` is just another `AIMessage` object, we can append it to `messages`, add another `HumanMessage`, and generate the next response in the conversation."
   ]
  },
  {
   "cell_type": "markdown",
   "id": "b25f1b56-22b0-414c-bc56-99ea90820f1a",
   "metadata": {},
   "source": [
    "### Instructions\n",
    "\n",
    "Continue the conversation with GPT.\n",
    "\n",
    "- Append the latest AI response to `messages`.\n",
    "- Create a new human message. Assign to `prompt`.\n",
    "    - Use the content `\"Why do physicists believe it can produce a 'unified theory'?\"`\n",
    "- Append the prompt to messages."
   ]
  },
  {
   "cell_type": "code",
   "execution_count": 7,
   "id": "51e66e15-dc5d-4f5e-9db2-680f4c90546f",
   "metadata": {
    "executionCancelledAt": null,
    "executionTime": 47,
    "lastExecutedAt": 1716001872764,
    "lastExecutedByKernel": "9e75850b-3e18-4e02-a641-a37c02b4177f",
    "lastScheduledRunId": null,
    "lastSuccessfullyExecutedCode": "# Append the latest AI response to messages\nmessages.append(res)",
    "outputsMetadata": {
     "0": {
      "height": 505,
      "type": "stream"
     }
    }
   },
   "outputs": [],
   "source": [
    "# Append the latest AI response to messages\n",
    "messages.append(res)"
   ]
  },
  {
   "cell_type": "code",
   "execution_count": 8,
   "id": "be31574f-4801-452e-94a1-a544e50fb4b1",
   "metadata": {
    "executionCancelledAt": null,
    "executionTime": 51,
    "lastExecutedAt": 1716001872816,
    "lastExecutedByKernel": "9e75850b-3e18-4e02-a641-a37c02b4177f",
    "lastScheduledRunId": null,
    "lastSuccessfullyExecutedCode": "# Create a new human message. Assign to prompt.\nprompt = HumanMessage(content=\"Why do physicists believe it can produce a 'unified theory'?\")\n\n# Append the prompt to messages\nmessages.append(prompt)"
   },
   "outputs": [],
   "source": [
    "# Create a new human message. Assign to prompt.\n",
    "prompt = HumanMessage(content=\"Why do physicists believe it can produce a 'unified theory'?\")\n",
    "\n",
    "# Append the prompt to messages\n",
    "messages.append(prompt)"
   ]
  },
  {
   "cell_type": "code",
   "execution_count": 9,
   "id": "7bc0c721-8eb2-4a20-8491-89a281480ea5",
   "metadata": {
    "executionCancelledAt": null,
    "executionTime": 52,
    "lastExecutedAt": 1716001872869,
    "lastExecutedByKernel": "9e75850b-3e18-4e02-a641-a37c02b4177f",
    "lastScheduledRunId": null,
    "lastSuccessfullyExecutedCode": "# Sanity check before you send to GPT: what does messages contain?\nmessages"
   },
   "outputs": [
    {
     "data": {
      "text/plain": [
       "[SystemMessage(content='You are a helpful assistant.'),\n",
       " HumanMessage(content='Hi AI, how are you today?'),\n",
       " AIMessage(content=\"I'm great thank you. How can I help you?\"),\n",
       " HumanMessage(content=\"I'd like to understand string theory.\"),\n",
       " AIMessage(content='String theory is a theoretical framework in physics that attempts to reconcile quantum mechanics and general relativity, providing a unified description of fundamental forces and particles. Here are some key concepts to help you understand string theory:\\n\\n1. **Basic Idea**: In string theory, the fundamental particles of the universe (like electrons and quarks) are not point-like objects, but rather tiny, vibrating strings. The different vibrational modes of these strings correspond to different particles. For instance, one mode might represent an electron, while another might represent a quark.\\n\\n2. **Dimensions**: String theory posits that there are more dimensions than the familiar three dimensions of space and one of time. While we experience four dimensions, string theory suggests there could be as many as 10 or 11 dimensions. The extra dimensions are compactified or curled up in ways that make them difficult to detect.\\n\\n3. **Unification of Forces**: One of the goals of string theory is to unify all fundamental forces in nature, including gravity, electromagnetism, the weak nuclear force, and the strong nuclear force. In traditional physics, these forces are described by separate theories, but string theory aims to provide a single framework that encompasses them.\\n\\n4. **Supersymmetry**: Many versions of string theory incorporate the concept of supersymmetry, which proposes a symmetry between fermions (matter particles) and bosons (force-carrying particles). Supersymmetry predicts the existence of \"superpartners\" for every known particle, potentially providing new particles that could be discovered in high-energy physics experiments.\\n\\n5. **M-Theory**: M-theory is an extension of string theory that proposes the existence of 11 dimensions and incorporates different string theories into a single framework. It includes objects called membranes (or \"branes\") in addition to strings.\\n\\n6. **Challenges**: Despite its mathematical elegance and potential for unification, string theory faces significant challenges. One major issue is that it is difficult to test experimentally, as the energy scales at which string effects would become apparent are far beyond what current particle accelerators can achieve.\\n\\n7. **Mathematical Complexity**: String theory involves advanced mathematics, including geometry and topology, which can make it difficult to grasp fully without a strong background in these areas.\\n\\n8. **Current Research**: Research in string theory is ongoing, with physicists exploring its implications, seeking connections to observable phenomena, and trying to find ways to test its predictions.\\n\\nIn summary, string theory is a complex and ambitious attempt to describe the fundamental nature of the universe, proposing that everything is made of tiny, vibrating strings and aiming to unify all known forces and particles in a coherent theoretical framework. If you have more specific questions or topics within string theory that you\\'d like to explore, feel free to ask!', response_metadata={'token_usage': {'completion_tokens': 566, 'prompt_tokens': 51, 'total_tokens': 617, 'prompt_tokens_details': {'cached_tokens': 0, 'audio_tokens': 0}, 'completion_tokens_details': {'reasoning_tokens': 0, 'audio_tokens': 0, 'accepted_prediction_tokens': 0, 'rejected_prediction_tokens': 0}}, 'model_name': 'gpt-4o-mini', 'system_fingerprint': 'fp_7fcd609668', 'finish_reason': 'stop', 'logprobs': None}, id='run-c1efad29-8131-4267-8898-d591c6e8071d-0'),\n",
       " HumanMessage(content=\"Why do physicists believe it can produce a 'unified theory'?\")]"
      ]
     },
     "execution_count": 9,
     "metadata": {},
     "output_type": "execute_result"
    }
   ],
   "source": [
    "# Sanity check before you send to GPT: what does messages contain?\n",
    "messages"
   ]
  },
  {
   "cell_type": "markdown",
   "id": "e3628e65-9dde-41b2-bf22-e489fb70694a",
   "metadata": {},
   "source": [
    "### Instructions\n",
    "\n",
    "- Invoke the chat again to send the messages to GPT. Assign to `res`.\n",
    "- Print the contents of the response."
   ]
  },
  {
   "cell_type": "code",
   "execution_count": 10,
   "id": "4f68e1d4-4dcc-4dbe-b7ce-df321f90ae5c",
   "metadata": {
    "executionCancelledAt": null,
    "executionTime": 4630,
    "lastExecutedAt": 1716001877499,
    "lastExecutedByKernel": "9e75850b-3e18-4e02-a641-a37c02b4177f",
    "lastScheduledRunId": null,
    "lastSuccessfullyExecutedCode": "# Invoke the chat again to send the messages to GPT. Assign to res.\nres = chat.invoke(messages)\n\n# Print the contents of the response.\nprint(res.content)",
    "outputsMetadata": {
     "0": {
      "height": 437,
      "type": "stream"
     },
     "1": {
      "height": 353,
      "type": "stream"
     }
    }
   },
   "outputs": [
    {
     "name": "stdout",
     "output_type": "stream",
     "text": [
      "Physicists believe that string theory has the potential to produce a \"unified theory\" for several reasons:\n",
      "\n",
      "1. **Inclusion of Gravity**: One of the significant challenges in theoretical physics has been to reconcile general relativity, which describes gravity, with quantum mechanics, which governs the behavior of particles at the smallest scales. String theory inherently includes gravity by incorporating a specific vibrational mode of strings that corresponds to the graviton, the hypothetical particle that mediates gravitational interactions. This inclusion is a step toward unifying gravity with the other fundamental forces.\n",
      "\n",
      "2. **Unification of Forces**: String theory suggests that all fundamental forces (electromagnetic, weak nuclear, strong nuclear, and gravitational) arise from different vibrational states of strings. In this framework, the forces are not separate entities but manifestations of the same underlying physical structure. This is analogous to how electromagnetism and weak nuclear forces can be unified in the electroweak theory.\n",
      "\n",
      "3. **Mathematical Consistency**: String theory provides a mathematically consistent framework that can incorporate various forces and particles in a single theoretical model. The mathematics of string theory, particularly its reliance on conformal field theory and higher-dimensional geometry, allows for rich structures that can potentially describe all known interactions.\n",
      "\n",
      "4. **Supersymmetry**: Many versions of string theory incorporate supersymmetry, a theoretical symmetry that relates fermions and bosons. Supersymmetry helps address various theoretical issues, such as the hierarchy problem (why gravity is so much weaker than the other forces) and provides a pathway to unify particles and forces by predicting new particles that could connect these forces more directly.\n",
      "\n",
      "5. **Higher Dimensions**: String theory posits the existence of additional spatial dimensions beyond the familiar three. These extra dimensions can provide a richer structure that may help unify forces by allowing different interactions to occur in different dimensional contexts. The idea is that the properties of particles and forces could emerge from the geometry of these higher dimensions.\n",
      "\n",
      "6. **Theoretical Elegance**: Physicists are often drawn to theories that provide elegant and simple explanations for complex phenomena. String theory is seen by many as an elegant framework that can potentially explain a wide range of physical phenomena in a unified way.\n",
      "\n",
      "7. **Successful Predictions**: While string theory has not yet made experimentally testable predictions that have been confirmed, it has led to insights in other areas of physics, such as black hole thermodynamics and the AdS/CFT correspondence, which relates string theory in anti-de Sitter space to conformal field theories. These connections suggest that string theory is a robust framework that can yield useful predictions and insights, even if it hasn't yet provided a complete unified theory.\n",
      "\n",
      "Despite these compelling reasons, it is important to note that string theory remains a work in progress. There are still many open questions and challenges, such as how to derive the Standard Model of particle physics from string theory and how to connect its predictions with experimental data. As such, while string theory has the potential to unify our understanding of fundamental forces and particles, it has not yet been established as the final answer in theoretical physics.\n"
     ]
    }
   ],
   "source": [
    "# Invoke the chat again to send the messages to GPT. Assign to res.\n",
    "res = chat.invoke(messages)\n",
    "\n",
    "# Print the contents of the response.\n",
    "print(res.content)"
   ]
  },
  {
   "cell_type": "markdown",
   "id": "c536df54-a985-401e-99e7-212004379618",
   "metadata": {},
   "source": [
    "## Task 2: Hallucinations"
   ]
  },
  {
   "cell_type": "markdown",
   "id": "e257b696-4c54-4412-9534-7bf57a47cfc3",
   "metadata": {},
   "source": [
    "We have our chatbot, but as mentioned—the knowledge of LLMs can be limited. The reason for this is that LLMs learn all they know during training. An LLM essentially compresses the \"world\" as seen in the training data into the internal parameters of the model. We call this knowledge the _parametric knowledge_ of the model.\n",
    "\n",
    "\n",
    "\n",
    "By default, LLMs have no access to the external world.\n",
    "\n",
    "![langchain-no-access-to-world](langchain-no-access-to-world.png)\n",
    "\n",
    "This means that GPT (or any other LLM) will perform badly on some types of question.\n",
    "\n",
    "* The chatbot doesn't know about recent events. How does it respond if you ask about the weather in your city today?\n",
    "* It can't answer questions about recent code or recent products. Try asking it `\"Can you tell me about the LLMChain in LangChain?\"` or `\"What was the latest course released on DataCamp?\"`\n",
    "* It can't answer questions about confidential corporate information that hasn't been released into the internet."
   ]
  },
  {
   "cell_type": "markdown",
   "id": "61ae0a3c-6d1a-4616-9cf0-871c1dd4b5d5",
   "metadata": {},
   "source": [
    "### Instructions\n",
    "\n",
    "Append the AI response to the list of messages.\n",
    "\n",
    "- Print the number of messages in the conversation.\n",
    "- Append the latest AI response to `messages`.\n",
    "- Print the number of messages in the conversation again."
   ]
  },
  {
   "cell_type": "code",
   "execution_count": 11,
   "id": "5af4c597-b1b6-4159-9a86-876789695fab",
   "metadata": {
    "executionCancelledAt": null,
    "executionTime": 49,
    "lastExecutedAt": 1716001877548,
    "lastExecutedByKernel": "9e75850b-3e18-4e02-a641-a37c02b4177f",
    "lastScheduledRunId": null,
    "lastSuccessfullyExecutedCode": "# Print the number of messages in the conversation\nprint(len(messages))\n\n# Append the response to the list of messages\nmessages.append(res)\n\n# Print the number of messages in the conversation again\nprint(len(messages))",
    "outputsMetadata": {
     "0": {
      "height": 59,
      "type": "stream"
     }
    }
   },
   "outputs": [
    {
     "name": "stdout",
     "output_type": "stream",
     "text": [
      "6\n",
      "7\n"
     ]
    }
   ],
   "source": [
    "# Print the number of messages in the conversation\n",
    "print(len(messages))\n",
    "\n",
    "# Append the response to the list of messages\n",
    "messages.append(res)\n",
    "\n",
    "# Print the number of messages in the conversation again\n",
    "print(len(messages))"
   ]
  },
  {
   "cell_type": "markdown",
   "id": "985b4acd-0c16-457c-837f-50a2a3f2b9d1",
   "metadata": {},
   "source": [
    "### Instructions\n",
    "\n",
    "Ask GPT about Llama 3.\n",
    "\n",
    "- Create a new human message. Assign to `prompt`.\n",
    "    - Use the content `\"What is so special about Llama 3?\"`.\n",
    "- Append the prompt to `messages`.\n",
    "- Invoke the chat to send the messages to GPT. Assign to `res`.\n",
    "- Print the contents of the response."
   ]
  },
  {
   "cell_type": "code",
   "execution_count": 12,
   "id": "c3e22ec5-7a01-46a2-96b9-ee2dda555932",
   "metadata": {
    "executionCancelledAt": null,
    "executionTime": 838,
    "lastExecutedAt": 1716001878386,
    "lastExecutedByKernel": "9e75850b-3e18-4e02-a641-a37c02b4177f",
    "lastScheduledRunId": null,
    "lastSuccessfullyExecutedCode": "# Create a new human message about Llama 3\nprompt = HumanMessage(content=\"What is so special about Llama 3?\")\n\n# Append this message to the conversation. Assign to prompt.\nmessages.append(prompt)\n\n# Invoke the chat with the latest list of messages\nres = chat.invoke(messages)\n\n# Print the contents of the response\nprint(res.content)",
    "outputsMetadata": {
     "0": {
      "height": 59,
      "type": "stream"
     }
    }
   },
   "outputs": [
    {
     "name": "stdout",
     "output_type": "stream",
     "text": [
      "As of my last knowledge update in October 2023, LLaMA 3 refers to a series of large language models developed by Meta (formerly Facebook). While I don't have specific details about LLaMA 3, I can provide some context based on the advancements typically associated with the LLaMA series and what makes these models notable in the field of AI and natural language processing:\n",
      "\n",
      "1. **State-of-the-Art Performance**: Each iteration of the LLaMA models aims to improve upon previous versions in terms of language understanding, generation, and overall performance on various benchmarks. LLaMA 3 would likely be designed to achieve state-of-the-art results in natural language processing tasks.\n",
      "\n",
      "2. **Scalability**: The LLaMA series has focused on developing models that can scale efficiently while maintaining performance. This means that LLaMA 3 might be designed to handle larger datasets or more complex tasks than its predecessors.\n",
      "\n",
      "3. **Research Accessibility**: Meta has emphasized making their models accessible for research purposes. This includes providing open weights or APIs that allow researchers and developers to experiment with the models and build applications on top of them.\n",
      "\n",
      "4. **Ethical Considerations**: Given the growing concerns around AI ethics, LLaMA 3 may include features aimed at addressing biases, improving safety, and ensuring responsible use of AI technologies. This could involve better handling of sensitive topics and reducing the risk of generating harmful content.\n",
      "\n",
      "5. **Fine-tuning and Customization**: LLaMA 3 might offer improved capabilities for fine-tuning and customization, allowing users to adapt the model to specific tasks or domains more effectively than earlier versions.\n",
      "\n",
      "6. **Multimodality**: Depending on the developments in the LLaMA series, LLaMA 3 could potentially incorporate multimodal capabilities, enabling it to process and generate not just text but also images, audio, or other forms of data.\n",
      "\n",
      "7. **Community Engagement**: Meta has been actively engaging with the research community, and LLaMA 3 may have been developed with input from various stakeholders, ensuring it meets the needs of users and researchers alike.\n",
      "\n",
      "For the most accurate and up-to-date information about LLaMA 3, including its specific features, capabilities, and any new innovations it brings to the field, I recommend checking Meta's official announcements, research papers, or reputable news sources that cover developments in AI and machine learning.\n"
     ]
    }
   ],
   "source": [
    "# Create a new human message about Llama 3\n",
    "prompt = HumanMessage(content=\"What is so special about Llama 3?\")\n",
    "\n",
    "# Append this message to the conversation. Assign to prompt.\n",
    "messages.append(prompt)\n",
    "\n",
    "# Invoke the chat with the latest list of messages\n",
    "res = chat.invoke(messages)\n",
    "\n",
    "# Print the contents of the response\n",
    "print(res.content)"
   ]
  },
  {
   "cell_type": "markdown",
   "id": "632d8027-3fe6-4e5d-ba5e-bbd261c6e9d6",
   "metadata": {},
   "source": [
    "### Confidently wrong: hallucinations from LLMs\n",
    "\n",
    "Our chatbot can no longer help us, it doesn't contain the information we need to answer the question. It was very clear from this answer that the LLM doesn't know the information, but sometimes an LLM may respond like it _does_ know the answer—and this can be very hard to detect. See this example from the earliest version of GPT-4 in the OpenAI Playground:\n",
    "\n",
    "![llm-chain-hallucination](llm-chain-hallucination.png)\n",
    "\n",
    "OpenAI have since adjusted the behavior for this particular example as we can see below:\n"
   ]
  },
  {
   "cell_type": "markdown",
   "id": "2fdf6188-f9ad-42fd-b254-cfed65434024",
   "metadata": {},
   "source": [
    "### Instructions\n",
    "\n",
    "Ask GPT about LangChain.\n",
    "\n",
    "- Append the latest AI response to `messages`.\n",
    "- Create a new human message. Assign to `prompt`.\n",
    "    - Use the content `\"Can you tell me about the LLMChain in LangChain?\"`.\n",
    "- Append the prompt to `messages`.\n",
    "- Send the messages to GPT. Assign to `res`.\n",
    "- Print the contents of the response."
   ]
  },
  {
   "cell_type": "code",
   "execution_count": 13,
   "id": "13e182b4-3b48-4d28-88dd-27abc9ad4a1c",
   "metadata": {
    "executionCancelledAt": null,
    "executionTime": 1613,
    "lastExecutedAt": 1716001879999,
    "lastExecutedByKernel": "9e75850b-3e18-4e02-a641-a37c02b4177f",
    "lastScheduledRunId": null,
    "lastSuccessfullyExecutedCode": "# Append the latest AI response to messages\nmessages.append(res)\n\n# Create a new human message. Assign to prompt.\nprompt = HumanMessage(content=\"Can you tell me about the LLMChain in LangChain?\")\n\n# Append the latest prompt to messages\nmessages.append(prompt)\n\n# Invoke the chat with the latest list of message\nres = chat.invoke(messages)\n\n# Print the contents of the response\nprint(res.content)",
    "outputsMetadata": {
     "0": {
      "height": 101,
      "type": "stream"
     }
    }
   },
   "outputs": [
    {
     "name": "stdout",
     "output_type": "stream",
     "text": [
      "**LLMChain** is a concept within the LangChain framework, which is designed to facilitate the development of applications that use large language models (LLMs). LangChain provides a robust set of tools and abstractions to help developers create applications that leverage LLMs effectively, enabling various functionalities like text generation, question answering, data extraction, and more.\n",
      "\n",
      "### Key Features of `LLMChain`\n",
      "\n",
      "1. **Chain of Operations**: The LLMChain allows developers to create a sequence (or chain) of operations that involve one or more LLMs. This is useful for applications where the output of one operation is the input for another, enabling more complex workflows.\n",
      "\n",
      "2. **Integration with LLMs**: LLMChain is designed to work seamlessly with different LLMs, making it easy for developers to switch between different models or use multiple models in a single application. This abstraction simplifies the process of integrating various language models.\n",
      "\n",
      "3. **Input and Output Handling**: LLMChain provides mechanisms to manage inputs and outputs effectively. Developers can define how to process user input, how to format the output from the language model, and how to chain these interactions together.\n",
      "\n",
      "4. **Customizability**: Developers can customize various aspects of the LLMChain, such as the prompt templates used for the LLM, the parameters passed to the model (e.g., temperature, max tokens), and any additional processing that should occur before or after the LLM interaction.\n",
      "\n",
      "5. **Error Handling**: The framework may include built-in error handling mechanisms to manage potential issues when interacting with LLMs, such as timeouts or unexpected outputs.\n",
      "\n",
      "6. **Support for Memory**: Some configurations of LLMChain allow for incorporating memory, enabling the application to maintain context over multiple interactions. This feature is particularly useful for conversational agents or applications that require context retention across user sessions.\n",
      "\n",
      "7. **Integration with Other Chains**: LLMChain can be combined with other chains and components within LangChain, allowing developers to build more sophisticated applications that utilize various aspects of the framework, such as data retrieval or external API calls.\n",
      "\n",
      "8. **Use Cases**: Common use cases for LLMChain include chatbot development, interactive Q&A systems, automated content generation, and other scenarios where sequential interactions with a language model are needed.\n",
      "\n",
      "### Example of Usage\n",
      "\n",
      "Here's a simplified example of how one might use LLMChain in a LangChain application:\n",
      "\n",
      "```python\n",
      "from langchain import LLMChain\n",
      "from langchain.llms import OpenAI\n",
      "\n",
      "# Initialize the language model\n",
      "llm = OpenAI(model_name=\"text-davinci-003\")\n",
      "\n",
      "# Create a prompt template\n",
      "prompt_template = \"What are some interesting facts about {topic}?\"\n",
      "\n",
      "# Create an LLMChain\n",
      "chain = LLMChain(llm=llm, prompt=prompt_template)\n",
      "\n",
      "# Execute the chain with a specific topic\n",
      "result = chain.run(topic=\"quantum physics\")\n",
      "\n",
      "# Output the result\n",
      "print(result)\n",
      "```\n",
      "\n",
      "### Conclusion\n",
      "\n",
      "LLMChain in LangChain is a powerful tool for developers looking to build applications that leverage the capabilities of large language models. By providing a structured way to create chains of interactions, manage inputs and outputs, and integrate various features, LLMChain simplifies the process of developing sophisticated AI applications. If you're working with LLMs and interested in building applications, exploring LangChain and its components like LLMChain can be highly beneficial.\n"
     ]
    }
   ],
   "source": [
    "# Append the latest AI response to messages\n",
    "messages.append(res)\n",
    "\n",
    "# Create a new human message. Assign to prompt.\n",
    "prompt = HumanMessage(content=\"Can you tell me about the LLMChain in LangChain?\")\n",
    "\n",
    "# Append the latest prompt to messages\n",
    "messages.append(prompt)\n",
    "\n",
    "# Invoke the chat with the latest list of message\n",
    "res = chat.invoke(messages)\n",
    "\n",
    "# Print the contents of the response\n",
    "print(res.content)"
   ]
  },
  {
   "cell_type": "markdown",
   "id": "ef46c06c-d226-49ce-b467-78408945ff4f",
   "metadata": {},
   "source": [
    "There is another way of feeding knowledge into LLMs. It is called _source knowledge_ and it refers to any information fed into the LLM via the prompt. We can try that with the LLMChain question. We can take a description of this object from the LangChain documentation."
   ]
  },
  {
   "cell_type": "markdown",
   "id": "9e8fb83d-8c94-4d11-b21a-12c455a7f873",
   "metadata": {},
   "source": [
    "### Instructions\n",
    "\n",
    "Create a string of knowledge about chains.\n",
    "\n",
    "- *Read the descriptions of LLMChains, Chains, and LangChain given in `llmchain_information`.*\n",
    "- Combine the list of description strings into a single string. Assign to `source_knowledge`."
   ]
  },
  {
   "cell_type": "code",
   "execution_count": 14,
   "id": "711778a5-76d5-40d2-8ed1-2b12a89a474d",
   "metadata": {
    "executionCancelledAt": null,
    "executionTime": 54,
    "lastExecutedAt": 1716001880053,
    "lastExecutedByKernel": "9e75850b-3e18-4e02-a641-a37c02b4177f",
    "lastScheduledRunId": null,
    "lastSuccessfullyExecutedCode": "# Run these descriptions of LLMChains, Chains, and LangChain \nllmchain_information = [\n    \"A LLMChain is the most common type of chain. It consists of a PromptTemplate, a model (either an LLM or a ChatModel), and an optional output parser. This chain takes multiple input variables, uses the PromptTemplate to format them into a prompt. It then passes that to the model. Finally, it uses the OutputParser (if provided) to parse the output of the LLM into a final format.\",\n    \"Chains is an incredibly generic concept which returns to a sequence of modular components (or other chains) combined in a particular way to accomplish a common use case.\",\n    \"LangChain is a framework for developing applications powered by language models. We believe that the most powerful and differentiated applications will not only call out to a language model via an api, but will also: (1) Be data-aware: connect a language model to other sources of data, (2) Be agentic: Allow a language model to interact with its environment. As such, the LangChain framework is designed with the objective in mind to enable those types of applications.\"\n]\nlen(llmchain_information)"
   },
   "outputs": [
    {
     "data": {
      "text/plain": [
       "3"
      ]
     },
     "execution_count": 14,
     "metadata": {},
     "output_type": "execute_result"
    }
   ],
   "source": [
    "# Run these descriptions of LLMChains, Chains, and LangChain \n",
    "llmchain_information = [\n",
    "    \"A LLMChain is the most common type of chain. It consists of a PromptTemplate, a model (either an LLM or a ChatModel), and an optional output parser. This chain takes multiple input variables, uses the PromptTemplate to format them into a prompt. It then passes that to the model. Finally, it uses the OutputParser (if provided) to parse the output of the LLM into a final format.\",\n",
    "    \"Chains is an incredibly generic concept which returns to a sequence of modular components (or other chains) combined in a particular way to accomplish a common use case.\",\n",
    "    \"LangChain is a framework for developing applications powered by language models. We believe that the most powerful and differentiated applications will not only call out to a language model via an api, but will also: (1) Be data-aware: connect a language model to other sources of data, (2) Be agentic: Allow a language model to interact with its environment. As such, the LangChain framework is designed with the objective in mind to enable those types of applications.\"\n",
    "]\n",
    "len(llmchain_information)"
   ]
  },
  {
   "cell_type": "code",
   "execution_count": 15,
   "id": "f63762f2-0cb2-48ee-8d51-8fc6b3165fcd",
   "metadata": {
    "executionCancelledAt": null,
    "executionTime": 51,
    "lastExecutedAt": 1716001880105,
    "lastExecutedByKernel": "9e75850b-3e18-4e02-a641-a37c02b4177f",
    "lastScheduledRunId": null,
    "lastSuccessfullyExecutedCode": "# Run this to join the definitions, separated by newlines\nsource_knowledge = \"\\n\".join(llmchain_information)\nsource_knowledge"
   },
   "outputs": [
    {
     "data": {
      "text/plain": [
       "'A LLMChain is the most common type of chain. It consists of a PromptTemplate, a model (either an LLM or a ChatModel), and an optional output parser. This chain takes multiple input variables, uses the PromptTemplate to format them into a prompt. It then passes that to the model. Finally, it uses the OutputParser (if provided) to parse the output of the LLM into a final format.\\nChains is an incredibly generic concept which returns to a sequence of modular components (or other chains) combined in a particular way to accomplish a common use case.\\nLangChain is a framework for developing applications powered by language models. We believe that the most powerful and differentiated applications will not only call out to a language model via an api, but will also: (1) Be data-aware: connect a language model to other sources of data, (2) Be agentic: Allow a language model to interact with its environment. As such, the LangChain framework is designed with the objective in mind to enable those types of applications.'"
      ]
     },
     "execution_count": 15,
     "metadata": {},
     "output_type": "execute_result"
    }
   ],
   "source": [
    "# Run this to join the definitions, separated by newlines\n",
    "source_knowledge = \"\\n\".join(llmchain_information)\n",
    "source_knowledge"
   ]
  },
  {
   "cell_type": "markdown",
   "id": "961fe8f0-4b6a-4227-8b40-0ab501c13ee5",
   "metadata": {},
   "source": [
    "We can feed this additional knowledge into our prompt with some instructions telling the LLM how we'd like it to use this information alongside our original query."
   ]
  },
  {
   "cell_type": "markdown",
   "id": "a18cd1f5-ace4-4abd-b139-6d6e163e9c3d",
   "metadata": {},
   "source": [
    "### Instructions\n",
    "\n",
    "- Define a question. Assign to `query`.\n",
    "    - Use the text `\"Can you tell me about the LLMChain in LangChain?\"`\n",
    "- Create an augmented prompt containing the context and query. Assign to `augmented_prompt`.\n",
    "\n",
    "                augmented_prompt = f\"\"\"Using the contexts below, answer the query. If some information is not provided within the contexts below, do not include, and if the query cannot be answered with the below information, say \"I don't know\".\n",
    "\n",
    "        Contexts:\n",
    "        {source_knowledge}\n",
    "\n",
    "        Query: {query}\"\"\""
   ]
  },
  {
   "cell_type": "code",
   "execution_count": 16,
   "id": "58a71fbf-6b81-42f5-8073-ddfd3139e351",
   "metadata": {
    "executionCancelledAt": null,
    "executionTime": 51,
    "lastExecutedAt": 1716001880156,
    "lastExecutedByKernel": "9e75850b-3e18-4e02-a641-a37c02b4177f",
    "lastScheduledRunId": null,
    "lastSuccessfullyExecutedCode": "# Define a question. Assign to query\nquery = \"Can you tell me about the LLMChain in LangChain?\"\n\n# Create an augmented prompt containing the context and query. Assign to augmented_prompt\naugmented_prompt = f\"\"\"Using the contexts below, answer the query. If some information is not provided within\nthe contexts below, do not include, and if the query cannot be answered with the below information, say \"I don't know\".\n\nContexts:\n{source_knowledge}\n\nQuery: {query}\"\"\""
   },
   "outputs": [],
   "source": [
    "# Define a question. Assign to query\n",
    "query = \"Can you tell me about the LLMChain in LangChain?\"\n",
    "\n",
    "# Create an augmented prompt containing the context and query. Assign to augmented_prompt\n",
    "augmented_prompt = f\"\"\"Using the contexts below, answer the query. If some information is not provided within\n",
    "the contexts below, do not include, and if the query cannot be answered with the below information, say \"I don't know\".\n",
    "\n",
    "Contexts:\n",
    "{source_knowledge}\n",
    "\n",
    "Query: {query}\"\"\""
   ]
  },
  {
   "cell_type": "code",
   "execution_count": 17,
   "id": "99e5faa0-e6dd-43a1-ba33-96fdeea31f9e",
   "metadata": {
    "executionCancelledAt": null,
    "executionTime": 48,
    "lastExecutedAt": 1716001880204,
    "lastExecutedByKernel": "9e75850b-3e18-4e02-a641-a37c02b4177f",
    "lastScheduledRunId": null,
    "lastSuccessfullyExecutedCode": "# Print the augmented prompt\nprint(augmented_prompt)",
    "outputsMetadata": {
     "0": {
      "height": 395,
      "type": "stream"
     }
    }
   },
   "outputs": [
    {
     "name": "stdout",
     "output_type": "stream",
     "text": [
      "Using the contexts below, answer the query. If some information is not provided within\n",
      "the contexts below, do not include, and if the query cannot be answered with the below information, say \"I don't know\".\n",
      "\n",
      "Contexts:\n",
      "A LLMChain is the most common type of chain. It consists of a PromptTemplate, a model (either an LLM or a ChatModel), and an optional output parser. This chain takes multiple input variables, uses the PromptTemplate to format them into a prompt. It then passes that to the model. Finally, it uses the OutputParser (if provided) to parse the output of the LLM into a final format.\n",
      "Chains is an incredibly generic concept which returns to a sequence of modular components (or other chains) combined in a particular way to accomplish a common use case.\n",
      "LangChain is a framework for developing applications powered by language models. We believe that the most powerful and differentiated applications will not only call out to a language model via an api, but will also: (1) Be data-aware: connect a language model to other sources of data, (2) Be agentic: Allow a language model to interact with its environment. As such, the LangChain framework is designed with the objective in mind to enable those types of applications.\n",
      "\n",
      "Query: Can you tell me about the LLMChain in LangChain?\n"
     ]
    }
   ],
   "source": [
    "# Print the augmented prompt\n",
    "print(augmented_prompt)"
   ]
  },
  {
   "cell_type": "markdown",
   "id": "686b36f9-9107-4099-b0da-22e60e4b17e6",
   "metadata": {},
   "source": [
    "Now we feed this into our chatbot as we did before.\n",
    "\n",
    "Don't append the previous AI message, since it wasn't a good answer."
   ]
  },
  {
   "cell_type": "markdown",
   "id": "aa19e06d-a9c0-4b25-bf3b-072b2f163852",
   "metadata": {},
   "source": [
    "### Instructions\n",
    "\n",
    "Include the augmented prompt in the conversation.\n",
    "\n",
    "- Print the last message in the list.\n",
    "- Replace the last message with a human message containing the augmented prompt."
   ]
  },
  {
   "cell_type": "markdown",
   "id": "55e6f4b0-3d2a-445d-82d6-9dfc8635db50",
   "metadata": {},
   "source": [
    "<details>\n",
    "<summary>Code hints</summary>\n",
    "<p>\n",
    "    \n",
    "The last element of a list can be accessed with the position `-1`.\n",
    "    \n",
    "```py\n",
    "# Get the last element of a list\n",
    "lst[-1]\n",
    "\n",
    "# Replace the last element of a list\n",
    "lst[-1] = new_value\n",
    "```\n",
    "\n",
    "</p>\n",
    "</details>"
   ]
  },
  {
   "cell_type": "code",
   "execution_count": 18,
   "id": "a7e0ee47-69f2-4f21-b48d-279e9ae5df3e",
   "metadata": {
    "executionCancelledAt": null,
    "executionTime": 50,
    "lastExecutedAt": 1716001880254,
    "lastExecutedByKernel": "9e75850b-3e18-4e02-a641-a37c02b4177f",
    "lastScheduledRunId": null,
    "lastSuccessfullyExecutedCode": "# Print the last message in the conversation\nprint(messages[-1])",
    "outputsMetadata": {
     "0": {
      "height": 38,
      "type": "stream"
     }
    }
   },
   "outputs": [
    {
     "name": "stdout",
     "output_type": "stream",
     "text": [
      "content='Can you tell me about the LLMChain in LangChain?'\n"
     ]
    }
   ],
   "source": [
    "# Print the last message in the conversation\n",
    "print(messages[-1])"
   ]
  },
  {
   "cell_type": "code",
   "execution_count": 19,
   "id": "901893e6-726d-4a42-805f-ee2d24b3b8a2",
   "metadata": {
    "executionCancelledAt": null,
    "executionTime": 50,
    "lastExecutedAt": 1716001880304,
    "lastExecutedByKernel": "9e75850b-3e18-4e02-a641-a37c02b4177f",
    "lastScheduledRunId": null,
    "lastSuccessfullyExecutedCode": "# Replace the last message with a human message containing the augmented prompt\nmessages[-1] = HumanMessage(content=augmented_prompt)",
    "outputsMetadata": {
     "0": {
      "height": 368,
      "type": "stream"
     }
    }
   },
   "outputs": [],
   "source": [
    "# Replace the last message with a human message containing the augmented prompt\n",
    "messages[-1] = HumanMessage(content=augmented_prompt)"
   ]
  },
  {
   "cell_type": "markdown",
   "id": "5f95104d-51aa-4c36-93fb-684e4ea99f8d",
   "metadata": {},
   "source": [
    "### Instructions\n",
    "\n",
    "Ask GPT about LangChain again, this time providing source knowledge.\n",
    "\n",
    "- Send the messages to GPT. Assign to `res`.\n",
    "- Print the contents of the response."
   ]
  },
  {
   "cell_type": "code",
   "execution_count": 20,
   "id": "ebbf365d-0215-4f6f-bb5b-146323b559b4",
   "metadata": {
    "executionCancelledAt": null,
    "executionTime": 1999,
    "lastExecutedAt": 1716001882304,
    "lastExecutedByKernel": "9e75850b-3e18-4e02-a641-a37c02b4177f",
    "lastScheduledRunId": null,
    "lastSuccessfullyExecutedCode": "# Invoke the chat with the list of messages\nres = chat.invoke(messages)\n\n# Print the contents of the response\nprint(res.content)",
    "outputsMetadata": {
     "0": {
      "height": 164,
      "type": "stream"
     }
    }
   },
   "outputs": [
    {
     "name": "stdout",
     "output_type": "stream",
     "text": [
      "An LLMChain in LangChain is the most common type of chain. It consists of a PromptTemplate, a model (either an LLM or a ChatModel), and an optional output parser. The LLMChain takes multiple input variables, uses the PromptTemplate to format them into a prompt, and then passes that prompt to the model. Finally, it uses the OutputParser (if provided) to parse the output of the LLM into a final format.\n"
     ]
    }
   ],
   "source": [
    "# Invoke the chat with the list of messages\n",
    "res = chat.invoke(messages)\n",
    "\n",
    "# Print the contents of the response\n",
    "print(res.content)"
   ]
  },
  {
   "cell_type": "markdown",
   "id": "30ae1f20-1e41-4e4f-a08e-09d0167170ba",
   "metadata": {},
   "source": [
    "The quality of this answer is phenomenal! This is made possible thanks to the idea of augmented our query with external knowledge (source knowledge). There's just one problem—how do we get this information in the first place?\n",
    "\n",
    "We learned in the previous code-alongs about Pinecone and vector databases. Well, they can help us here too. But first, we'll need a dataset."
   ]
  },
  {
   "cell_type": "markdown",
   "id": "97fa3cfe-9223-4593-85fd-6c21f788d46e",
   "metadata": {},
   "source": [
    "## Task 3: Importing the Data"
   ]
  },
  {
   "cell_type": "markdown",
   "id": "d6f4cd0f-4d29-4667-bf90-2603bae73759",
   "metadata": {},
   "source": [
    "In this task, we will be importing our data. We will be using the Hugging Face Datasets library and [the `\"jamescalam/llama-2-arxiv-papers\"` dataset](https://huggingface.co/datasets/jamescalam/llama-2-arxiv-papers-chunked). This dataset contains a collection of ArXiv papers which will serve as the external knowledge base for our chatbot."
   ]
  },
  {
   "cell_type": "markdown",
   "id": "a6bdc393-539e-420c-a5d9-bf9f422987f7",
   "metadata": {},
   "source": [
    "### Maintenance note, May 2024\n",
    "\n",
    "This code-along was originally designed around asking questions about Llama 2. While GPT 3.5 Turbo now knows about Llama 2 so the previous questions were changed to ask about Llama 3, there is no equivalent dataset for Llama 3, so we revert to talking about Llama 2. The code and principles remain correct, though the example is now slightly awkward."
   ]
  },
  {
   "cell_type": "markdown",
   "id": "404b9a07-65b0-490b-9380-fda08573baad",
   "metadata": {},
   "source": [
    "### Instructions\n",
    "\n",
    "Load the ArXiv papers dataset.\n",
    "\n",
    "- From the *datasets* package, import `load_dataset`.\n",
    "- Load the train split of the `jamescalam/llama-2-arxiv-papers-chunked` dataset. Assign to `dataset`.\n",
    "- Print the dataset object to see the structure of the data.\n",
    "- *Look at the structure. Which fields should we keep?*"
   ]
  },
  {
   "cell_type": "markdown",
   "id": "87ded94b-84f9-4fc2-9f64-2607ee4f8c8b",
   "metadata": {},
   "source": [
    "<details>\n",
    "<summary>Code hints</summary>\n",
    "<p>\n",
    "    \n",
    "To load the training part of a Hugging Face dataset, call `load_dataset()`, passing the dataset name, and setting `split` to `\"train\"`.\n",
    "\n",
    "</p>\n",
    "</details>"
   ]
  },
  {
   "cell_type": "code",
   "execution_count": 21,
   "id": "16f97002-b358-4a33-bb50-0401feda259b",
   "metadata": {
    "executionCancelledAt": null,
    "executionTime": 2085,
    "lastExecutedAt": 1716001884389,
    "lastExecutedByKernel": "9e75850b-3e18-4e02-a641-a37c02b4177f",
    "lastScheduledRunId": null,
    "lastSuccessfullyExecutedCode": "# From the datasets package, import load_dataset\nfrom datasets import load_dataset\n\n# Load the arxiv dataset, training set only\ndata = load_dataset(\"jamescalam/llama-2-arxiv-papers-chunked\", split=\"train\")\n\n# Print the dataset object\ndata",
    "outputsMetadata": {
     "1": {
      "height": 76,
      "type": "stream"
     },
     "6": {
      "height": 95,
      "type": "stream"
     }
    }
   },
   "outputs": [
    {
     "data": {
      "application/vnd.jupyter.widget-view+json": {
       "model_id": "d8b6ef3e578146bf95431247d23edee4",
       "version_major": 2,
       "version_minor": 0
      },
      "text/plain": [
       "Downloading readme:   0%|          | 0.00/409 [00:00<?, ?B/s]"
      ]
     },
     "metadata": {},
     "output_type": "display_data"
    },
    {
     "data": {
      "application/vnd.jupyter.widget-view+json": {
       "model_id": "22a3bd68f9c642f9aeb71c8275d36109",
       "version_major": 2,
       "version_minor": 0
      },
      "text/plain": [
       "Downloading data:   0%|          | 0.00/14.4M [00:00<?, ?B/s]"
      ]
     },
     "metadata": {},
     "output_type": "display_data"
    },
    {
     "data": {
      "application/vnd.jupyter.widget-view+json": {
       "model_id": "52db1f008018447abf9195a1c00335d8",
       "version_major": 2,
       "version_minor": 0
      },
      "text/plain": [
       "Generating train split:   0%|          | 0/4838 [00:00<?, ? examples/s]"
      ]
     },
     "metadata": {},
     "output_type": "display_data"
    },
    {
     "data": {
      "text/plain": [
       "Dataset({\n",
       "    features: ['doi', 'chunk-id', 'chunk', 'id', 'title', 'summary', 'source', 'authors', 'categories', 'comment', 'journal_ref', 'primary_category', 'published', 'updated', 'references'],\n",
       "    num_rows: 4838\n",
       "})"
      ]
     },
     "execution_count": 21,
     "metadata": {},
     "output_type": "execute_result"
    }
   ],
   "source": [
    "# From the datasets package, import load_dataset\n",
    "from datasets import load_dataset\n",
    "\n",
    "# Load the arxiv dataset, training set only\n",
    "data = load_dataset(\"jamescalam/llama-2-arxiv-papers-chunked\", split=\"train\")\n",
    "\n",
    "# Print the dataset object\n",
    "data"
   ]
  },
  {
   "cell_type": "markdown",
   "id": "796c12aa-e78a-4e62-9205-73cc6f3908cd",
   "metadata": {},
   "source": [
    "### Instructions\n",
    "\n",
    "Print a record of dataset to get a feel for what they contain."
   ]
  },
  {
   "cell_type": "code",
   "execution_count": 22,
   "id": "0e4c8dfd-2c65-4d2f-8ae1-d356daf0a3d8",
   "metadata": {
    "executionCancelledAt": null,
    "executionTime": 337,
    "lastExecutedAt": 1716001884726,
    "lastExecutedByKernel": "9e75850b-3e18-4e02-a641-a37c02b4177f",
    "lastScheduledRunId": null,
    "lastSuccessfullyExecutedCode": "# Print a record of dataset\ndata[0]"
   },
   "outputs": [
    {
     "data": {
      "text/plain": [
       "{'doi': '1102.0183',\n",
       " 'chunk-id': '0',\n",
       " 'chunk': 'High-Performance Neural Networks\\nfor Visual Object Classi\\x0ccation\\nDan C. Cire\\x18 san, Ueli Meier, Jonathan Masci,\\nLuca M. Gambardella and J\\x7f urgen Schmidhuber\\nTechnical Report No. IDSIA-01-11\\nJanuary 2011\\nIDSIA / USI-SUPSI\\nDalle Molle Institute for Arti\\x0ccial Intelligence\\nGalleria 2, 6928 Manno, Switzerland\\nIDSIA is a joint institute of both University of Lugano (USI) and University of Applied Sciences of Southern Switzerland (SUPSI),\\nand was founded in 1988 by the Dalle Molle Foundation which promoted quality of life.\\nThis work was partially supported by the Swiss Commission for Technology and Innovation (CTI), Project n. 9688.1 IFF:\\nIntelligent Fill in Form.arXiv:1102.0183v1  [cs.AI]  1 Feb 2011\\nTechnical Report No. IDSIA-01-11 1\\nHigh-Performance Neural Networks\\nfor Visual Object Classi\\x0ccation\\nDan C. Cire\\x18 san, Ueli Meier, Jonathan Masci,\\nLuca M. Gambardella and J\\x7f urgen Schmidhuber\\nJanuary 2011\\nAbstract\\nWe present a fast, fully parameterizable GPU implementation of Convolutional Neural\\nNetwork variants. Our feature extractors are neither carefully designed nor pre-wired, but',\n",
       " 'id': '1102.0183',\n",
       " 'title': 'High-Performance Neural Networks for Visual Object Classification',\n",
       " 'summary': 'We present a fast, fully parameterizable GPU implementation of Convolutional\\nNeural Network variants. Our feature extractors are neither carefully designed\\nnor pre-wired, but rather learned in a supervised way. Our deep hierarchical\\narchitectures achieve the best published results on benchmarks for object\\nclassification (NORB, CIFAR10) and handwritten digit recognition (MNIST), with\\nerror rates of 2.53%, 19.51%, 0.35%, respectively. Deep nets trained by simple\\nback-propagation perform better than more shallow ones. Learning is\\nsurprisingly rapid. NORB is completely trained within five epochs. Test error\\nrates on MNIST drop to 2.42%, 0.97% and 0.48% after 1, 3 and 17 epochs,\\nrespectively.',\n",
       " 'source': 'http://arxiv.org/pdf/1102.0183',\n",
       " 'authors': ['Dan C. Cireşan',\n",
       "  'Ueli Meier',\n",
       "  'Jonathan Masci',\n",
       "  'Luca M. Gambardella',\n",
       "  'Jürgen Schmidhuber'],\n",
       " 'categories': ['cs.AI', 'cs.NE'],\n",
       " 'comment': '12 pages, 2 figures, 5 tables',\n",
       " 'journal_ref': None,\n",
       " 'primary_category': 'cs.AI',\n",
       " 'published': '20110201',\n",
       " 'updated': '20110201',\n",
       " 'references': []}"
      ]
     },
     "execution_count": 22,
     "metadata": {},
     "output_type": "execute_result"
    }
   ],
   "source": [
    "# Print a record of dataset\n",
    "data[0]"
   ]
  },
  {
   "cell_type": "markdown",
   "id": "7901bcab-0c5e-4bc1-944e-ebd13d9284da",
   "metadata": {},
   "source": [
    "### Dataset Summary\n",
    "\n",
    "The dataset we are using is sourced from the Llama 2 ArXiv papers. It is a collection of academic papers from ArXiv, a repository of electronic preprints approved for publication after moderation. Each entry in the dataset represents a \"chunk\" of text from these papers.\n",
    "\n",
    "Because most **L**arge **L**anguage **M**odels (LLMs) only contain knowledge of the world as it was during training, they cannot answer our questions about Llama 2—at least not without this data."
   ]
  },
  {
   "cell_type": "markdown",
   "id": "7af0beaa-68f8-4cc3-831f-1118e79f45b3",
   "metadata": {},
   "source": [
    "## Task 4: Building the Knowledge Base"
   ]
  },
  {
   "cell_type": "markdown",
   "id": "92558679-3d66-419d-b30d-783456b992e5",
   "metadata": {},
   "source": [
    "We now have a dataset that can serve as our chatbot knowledge base. Our next task is to transform that dataset into the knowledge base that our chatbot can use. To do this we must use an embedding model and vector database."
   ]
  },
  {
   "cell_type": "markdown",
   "id": "2f5e123a-23f5-4fbb-a8dd-226dbdbd5b7f",
   "metadata": {},
   "source": [
    "### Workflow\n",
    "\n",
    "The workflow for setting up a chatbot is much the same as for setting up semantic search and retrieval augmented generation, as seen in previous code-alongs.\n",
    "\n",
    "- Initialize your connection to the Pinecone vector DB.\n",
    "- Create an index (remember to consider the dimensionality of `text-embedding-ada-002`).\n",
    "- Initialize OpenAI's `text-embedding-ada-002` model with LangChain.\n",
    "- Populate the index with records (in this case from the Llama 2 dataset)."
   ]
  },
  {
   "cell_type": "markdown",
   "id": "b1b2ef0b-ce4b-48ae-a3cb-8fba1143f6af",
   "metadata": {},
   "source": [
    "### Instructions\n",
    "\n",
    "Initialize Pinecone, getting setup details from Workspace environment variables.\n",
    "\n",
    "- Import the os package.\n",
    "- Import the pinecone package.\n",
    "- Initialize pinecone, setting the API key. Assign to `pc`."
   ]
  },
  {
   "cell_type": "markdown",
   "id": "00c1f717-3534-4c29-b7fe-44bb9002e791",
   "metadata": {},
   "source": [
    "<details>\n",
    "<summary>Code hints</summary>\n",
    "<p>\n",
    "    \n",
    "The Pinecone environment variable is usually called `PINECONE_API_KEY`, but check what you called it!\n",
    "    \n",
    "---\n",
    "    \n",
    "To initialize Pinecone, call `pinecone.Pinecone()`, setting `api_key` to the API key.\n",
    "\n",
    "</p>\n",
    "</details>"
   ]
  },
  {
   "cell_type": "code",
   "execution_count": 23,
   "id": "0be5dcfe-1fd1-432c-9c95-77572f27e2fe",
   "metadata": {
    "executionCancelledAt": null,
    "executionTime": 50,
    "lastExecutedAt": 1716001884776,
    "lastExecutedByKernel": "9e75850b-3e18-4e02-a641-a37c02b4177f",
    "lastScheduledRunId": null,
    "lastSuccessfullyExecutedCode": "# Import the os and pinecone packages\nimport os\nimport pinecone\n\n# Create a Pinecone object\npc = pinecone.Pinecone(api_key=os.environ[\"PINECONE_API_KEY\"])"
   },
   "outputs": [],
   "source": [
    "# Import the os and pinecone packages\n",
    "import os\n",
    "import pinecone\n",
    "\n",
    "# Create a Pinecone object. Assign to pc.\n",
    "pc = pinecone.Pinecone(api_key=os.environ[\"PINECONE_API_KEY\"])"
   ]
  },
  {
   "cell_type": "markdown",
   "id": "6536757a-943a-4b06-bba2-6bfe4152d170",
   "metadata": {},
   "source": [
    "Then we initialize the index. We will be using OpenAI's `text-embedding-ada-002` model for creating the embeddings, so we set the `dimension` to `1536`."
   ]
  },
  {
   "cell_type": "markdown",
   "id": "e1b833dd-0ed2-4547-b0c4-18e9a105963f",
   "metadata": {},
   "source": [
    "### Instructions\n",
    "\n",
    "Create a vector index in the Pinecone database.\n",
    "\n",
    "- Import the time package.\n",
    "- Choose a name for the vector index. Assign to `index_name`.\n",
    "- Check if index_name is not in Pinecone's list of existing indexes.\n",
    "    -  Create an index named index_name, dimension 1536, cosine similarity as its metric.\n",
    "    -  While the index status is not ready, sleep for one second."
   ]
  },
  {
   "cell_type": "markdown",
   "id": "f205ffcf-0fcb-4e1e-8408-f100a92e4218",
   "metadata": {},
   "source": [
    "<details>\n",
    "<summary>Code hints</summary>\n",
    "<p>\n",
    "    \n",
    "Get the list of available indexes with `pc.list_indexes()`. The code pattern to get all available index names is as follows.\n",
    "    \n",
    "```py\n",
    "[idx.name for idx in pc.list_indexes().indexes]\n",
    "```\n",
    "    \n",
    "---\n",
    "    \n",
    "Create an index with `pc.create_index()`, passing the index name, and setting the dimension, metric, and spec. In theory, you can specify where in the cloud Pinecone runs. Currently, Pinecone Serverless only runs on AWS in limited locations. Try `us-east-1` first and `us-west-2` as a backup. The code pattern to create an index is as follows.\n",
    "    \n",
    "```py\n",
    "pc.create_index(\n",
    "        index_name,\n",
    "        dimension=n_dims,\n",
    "        metric=\"cosine|dotproduct|euclidean\",\n",
    "        spec=pinecone.ServerlessSpec(\n",
    "            cloud=\"aws\",\n",
    "            region=\"us-east-1\"\n",
    "        )\n",
    "    )\n",
    "```\n",
    "    \n",
    "---\n",
    "    \n",
    "Get the index details with `pc.describe_index(index_name)`. The code pattern to check that the index is ready is as follows.\n",
    "    \n",
    "```py\n",
    "pc.describe_index(index_name).status[\"ready\"]\n",
    "```\n",
    "\n",
    "---\n",
    "    \n",
    "The code pattern for sleeping until a condition is met is as follows.\n",
    "    \n",
    "```py\n",
    "while not condition\n",
    "    time.sleep(n)\n",
    "```\n",
    "    \n",
    "</p>\n",
    "</details>"
   ]
  },
  {
   "cell_type": "code",
   "execution_count": 24,
   "id": "a9c31353-0b6c-40e4-8b13-582b39004f55",
   "metadata": {
    "executionCancelledAt": null,
    "executionTime": 123,
    "lastExecutedAt": 1716001884900,
    "lastExecutedByKernel": "9e75850b-3e18-4e02-a641-a37c02b4177f",
    "lastScheduledRunId": null,
    "lastSuccessfullyExecutedCode": "# Import the time package\nimport time\n\n# Define the index name\nindex_name = \"llama-2-rag\"\n\n# List the names of available indexes. Assign to existing_index_names.\nexisting_index_names = [idx.name for idx in pc.list_indexes().indexes]\n\n# Check if index_name is not in the list of available indexes\nif index_name not in existing_index_names:\n    # Create the index with index_name, a dimension of 1536, and the metric \"cosine\"\n    pc.create_index(\n        index_name,\n        dimension=1536,\n        metric=\"cosine\",\n        spec=pinecone.ServerlessSpec(\n            cloud=\"aws\",\n            region=\"us-east-1\"\n        )\n    )\n    # If the index status is not ready, sleep for 2 seconds\n    while not pc.describe_index(index_name).status[\"ready\"]:\n        time.sleep(2)"
   },
   "outputs": [],
   "source": [
    "# Import the time package\n",
    "import time\n",
    "\n",
    "# Define the index name\n",
    "index_name = \"llama-2-rag\"\n",
    "\n",
    "# List the names of available indexes. Assign to existing_index_names.\n",
    "existing_index_names = [idx.name for idx in pc.list_indexes().indexes]\n",
    "\n",
    "# Check if index_name is not in the list of available indexes\n",
    "if index_name not in existing_index_names:\n",
    "    # Create the index with index_name, a dimension of 1536, and the metric \"cosine\"\n",
    "    pc.create_index(\n",
    "        index_name,\n",
    "        dimension=1536,\n",
    "        metric=\"cosine\",\n",
    "        spec=pinecone.ServerlessSpec(\n",
    "            cloud=\"aws\",\n",
    "            region=\"us-east-1\"\n",
    "        )\n",
    "    )\n",
    "    # If the index status is not ready, sleep for 2 seconds\n",
    "    while not pc.describe_index(index_name).status[\"ready\"]:\n",
    "        time.sleep(2)"
   ]
  },
  {
   "cell_type": "markdown",
   "id": "44cb4e16-e943-43ee-9555-028c9da19754",
   "metadata": {},
   "source": [
    "### Instructions\n",
    "\n",
    "- Connect to the index using its name. Assign to `index`.\n",
    "- View the index stats."
   ]
  },
  {
   "cell_type": "code",
   "execution_count": 25,
   "id": "ea941ab8-99ab-4600-b035-7a892b0bd88d",
   "metadata": {
    "executionCancelledAt": null,
    "executionTime": 154,
    "lastExecutedAt": 1716001885055,
    "lastExecutedByKernel": "9e75850b-3e18-4e02-a641-a37c02b4177f",
    "lastScheduledRunId": null,
    "lastSuccessfullyExecutedCode": "# Connect to the index using its name. Assign to index.\nindex = pc.Index(index_name)\n\n# View the index stats\nindex.describe_index_stats()"
   },
   "outputs": [
    {
     "data": {
      "text/plain": [
       "{'dimension': 1536,\n",
       " 'index_fullness': 0.0,\n",
       " 'namespaces': {},\n",
       " 'total_vector_count': 0}"
      ]
     },
     "execution_count": 25,
     "metadata": {},
     "output_type": "execute_result"
    }
   ],
   "source": [
    "# Connect to the index using its name. Assign to index.\n",
    "index = pc.Index(index_name)\n",
    "\n",
    "# View the index stats\n",
    "index.describe_index_stats()"
   ]
  },
  {
   "cell_type": "markdown",
   "id": "79733e18-cb8a-4b0a-9335-d0bdc90529ff",
   "metadata": {},
   "source": [
    "Our index is now ready but it's empty. It is a vector index, so it needs vectors. As mentioned, to create these vector embeddings we will OpenAI's `text-embedding-ada-002` model—we can access it via LangChain."
   ]
  },
  {
   "cell_type": "markdown",
   "id": "b97b2f2c-828e-4517-b160-188977e9bbb5",
   "metadata": {},
   "source": [
    "### Instructions\n",
    "\n",
    "Create an embeddings model.\n",
    "\n",
    "- From the `langchain_openai` package, import `OpenAIEmbeddings`.\n",
    "- Create an embedings model object for `text-embedding-ada-002`. Assign to `embed_model`."
   ]
  },
  {
   "cell_type": "code",
   "execution_count": 26,
   "id": "7fc53547-8e89-4700-9a69-95bca1bedd30",
   "metadata": {
    "executionCancelledAt": null,
    "executionTime": 93,
    "lastExecutedAt": 1716001885148,
    "lastExecutedByKernel": "9e75850b-3e18-4e02-a641-a37c02b4177f",
    "lastScheduledRunId": null,
    "lastSuccessfullyExecutedCode": "# From the langchain_openai package, import OpenAIEmbeddings\nfrom langchain_openai import OpenAIEmbeddings\n\n# Create an embedings model object for text-embedding-ada-002. Assign to embed_model.\nembed_model = OpenAIEmbeddings(model=\"text-embedding-ada-002\")"
   },
   "outputs": [],
   "source": [
    "# From the langchain_openai package, import OpenAIEmbeddings\n",
    "from langchain_openai import OpenAIEmbeddings\n",
    "\n",
    "# Create an embedings model object for text-embedding-ada-002. Assign to embed_model.\n",
    "embed_model = OpenAIEmbeddings(model=\"text-embedding-ada-002\")"
   ]
  },
  {
   "cell_type": "markdown",
   "id": "a7c8de50-0543-4ae0-92c0-1da97803f841",
   "metadata": {},
   "source": [
    "Using this model we can create embeddings like so:"
   ]
  },
  {
   "cell_type": "code",
   "execution_count": 27,
   "id": "5b86b13a-591f-4b8e-b3cc-33c24c076d5b",
   "metadata": {
    "executionCancelledAt": null,
    "executionTime": 1013,
    "lastExecutedAt": 1716001886162,
    "lastExecutedByKernel": "9e75850b-3e18-4e02-a641-a37c02b4177f",
    "lastScheduledRunId": null,
    "lastSuccessfullyExecutedCode": "# Run this to see an example of the embeddings code pattern\ntexts = [\n    \"this is a sentence\",\n    \"this is another sentence\"\n]\n\nres = embed_model.embed_documents(texts=texts)\nlen(res), len(res[0])"
   },
   "outputs": [
    {
     "data": {
      "text/plain": [
       "(2, 1536)"
      ]
     },
     "execution_count": 27,
     "metadata": {},
     "output_type": "execute_result"
    }
   ],
   "source": [
    "# Run this to see an example of the embeddings code pattern\n",
    "texts = [\n",
    "    \"this is a sentence\",\n",
    "    \"this is another sentence\"\n",
    "]\n",
    "\n",
    "res = embed_model.embed_documents(texts=texts)\n",
    "len(res), len(res[0])"
   ]
  },
  {
   "cell_type": "markdown",
   "id": "f7f7f8ee-beb7-4dd0-86fa-cddf0d130d7e",
   "metadata": {},
   "source": [
    "From this we get two (aligning to our two chunks of text) 1536-dimensional embeddings.\n",
    "\n",
    "We're now ready to embed and index all our our data! We do this by looping through our dataset and embedding and inserting everything in batches."
   ]
  },
  {
   "cell_type": "markdown",
   "id": "f2ae6daf-ff93-4083-a4ac-259c09c6ad0b",
   "metadata": {},
   "source": [
    "### Instructions\n",
    "\n",
    "Prepare the data for upserting to Pinecone.\n",
    "\n",
    "- From *tqdm*, import `tqdm` (a progress bar).\n",
    "- Select these columns: `doi`, `chunk-id`, `chunk`, `title`, `source`. Assign to `data_selected`.\n",
    "- Convert `data_selected` to a pandas DataFrame in batch sizes of `100`. Assign to `data_batched`."
   ]
  },
  {
   "cell_type": "markdown",
   "id": "afdd4bf0-b806-46c7-b88c-dd4a18ac531e",
   "metadata": {},
   "source": [
    "<details>\n",
    "<summary>Code hints</summary>\n",
    "<p>\n",
    "    \n",
    "Select columns from a Hugging Face dataset with the `.select_columns()` method, passing a list of column names.\n",
    "    \n",
    "```py\n",
    "data.select_columns([\"column1\", \"column2\"])\n",
    "```\n",
    "\n",
    "---\n",
    "\n",
    "Convert a Hugging Face dataset to a pandas DataFrame with the `.to_pandas()` method. Set `batched` to `True` and `batch_size` to a positive integer to create a batched version of the dataset.\n",
    "    \n",
    "```py\n",
    "data.to_pandas(batched=True, batch_size=n)\n",
    "```\n",
    "\n",
    "Note that this returns a generator for a DataFrame (rather than a DataFrame). That means you can't access the contents until you use it inside a loop.\n",
    "    \n",
    "</p>\n",
    "</details>"
   ]
  },
  {
   "cell_type": "code",
   "execution_count": 28,
   "id": "78901974-3c01-4c19-a916-6a53d7fb17ad",
   "metadata": {
    "executionCancelledAt": null,
    "executionTime": 50,
    "lastExecutedAt": 1716001886212,
    "lastExecutedByKernel": "9e75850b-3e18-4e02-a641-a37c02b4177f",
    "lastScheduledRunId": null,
    "lastSuccessfullyExecutedCode": "# From the tqdm package, import tqdm\nfrom tqdm import tqdm\n\n# Select these columns: doi, chunk-id, chunk, title, source. Assign to data_selected.\ndata_selected = data.select_columns([\"doi\", \"chunk-id\", \"chunk\", \"title\", \"source\"])\n\n# Convert data_selected to a pandas DataFrame in batch sizes of 100. Assign to data_batched.\ndata_batched = data_selected.to_pandas(batched=True, batch_size=100)"
   },
   "outputs": [],
   "source": [
    "# From the tqdm package, import tqdm\n",
    "from tqdm import tqdm\n",
    "\n",
    "# Select these columns: doi, chunk-id, chunk, title, source. Assign to data_selected.\n",
    "data_selected = data.select_columns([\"doi\", \"chunk-id\", \"chunk\", \"title\", \"source\"])\n",
    "\n",
    "# Convert data_selected to a pandas DataFrame in batch sizes of 100. Assign to data_batched.\n",
    "data_batched = data_selected.to_pandas(batched=True, batch_size=100)"
   ]
  },
  {
   "cell_type": "markdown",
   "id": "4b0b83df-51bb-4ede-a388-76724fb98d0b",
   "metadata": {},
   "source": [
    "### Instructions\n",
    "\n",
    "Split the dataset into batches and add it to the vector index.\n",
    "\n",
    "- Loop over each batch in `data_batched`, adding a progress bar.\n",
    "    - Concatenate the `doi` and `chunk-id` columns separated by `-`, then convert to a list. Assign to `ids`.\n",
    "    - Get the `chunk` column and convert to a list. Assign to `texts`.\n",
    "    - Use the embedding model to embed the texts. Assign to `embeds`.\n",
    "    - Get the metadata from the batch. Assign to metadata.\n",
    "        - Select the `chunk`, `title`, and `source` columns.\n",
    "        - Apply the `dict` function to the columns axis.\n",
    "        - Convert to a list.\n",
    "    - Combine IDs, embeddings, and metadata as list of tuples. Assign to `to_upsert`.\n",
    "    - Upsert to Pinecone."
   ]
  },
  {
   "cell_type": "markdown",
   "id": "011dafe2-26b9-4ff5-9468-1644d9bfe76b",
   "metadata": {},
   "source": [
    "<details>\n",
    "<summary>Code hints</summary>\n",
    "<p>\n",
    "    \n",
    "The code pattern to loop over the batched DataFrame generator is as follows.\n",
    "    \n",
    "```py\n",
    "for batch in data_batched:\n",
    "    # batch is now a DataFrame\n",
    "    # do something with it\n",
    "```\n",
    "    \n",
    "The variation of this with a progress bar is as follows.\n",
    "   \n",
    "```py\n",
    "for batch in tqdm(data_batched):\n",
    "    # batch is now a DataFrame\n",
    "    # do something with it\n",
    "```\n",
    "    \n",
    "---\n",
    "    \n",
    "Concatenate text columns in a data with `+`.\n",
    "    \n",
    "```py\n",
    "df[\"col1\"] + \"-\" + df[\"col2\"] \n",
    "```\n",
    "    \n",
    "Convert a pandas Series to a list with `.to_list()`. You'll need an extra pair of parentheses here.\n",
    "    \n",
    "```py\n",
    "(df[\"col1\"] + \"-\" + df[\"col2\"]).to_list()\n",
    "```   \n",
    "    \n",
    "---\n",
    "  \n",
    "Embed documents with the `.embed_documents()` method of the embeddings model, passing the text as a list.\n",
    "    \n",
    "```py\n",
    "embed_model.embed_documents(list_of_documents)\n",
    "```\n",
    "    \n",
    "---\n",
    "\n",
    "Pinecone wants the metadata as a list of dictionaries, not a DataFrame. \n",
    "    \n",
    "```\n",
    "[\n",
    "  {\"chunk\": \"chunk0\", \"title\": \"title0\", \"source\": \"source0\"},\n",
    "  {\"chunk\": \"chunk1\", \"title\": \"title1\", \"source\": \"source1\"},\n",
    "  {\"chunk\": \"chunk2\", \"title\": \"title2\", \"source\": \"source2\"},\n",
    "  ...\n",
    "]\n",
    "```\n",
    "\n",
    "There are many ways of performing this conversion (though none of them are especially elegant). Use the method you are most comfortable with.\n",
    "    \n",
    "---\n",
    "\n",
    "Combine separate lists into a list of tuples using `zip()`.\n",
    "    \n",
    "```py\n",
    "zip(list0, list1, list2)\n",
    "```\n",
    "    \n",
    "---\n",
    "    \n",
    "Upsert to a Pinecone index using the index's `.upsert()` method, setting `vectors` to the tuples of ids, text, and metadata.\n",
    "    \n",
    "```py\n",
    "index.upsert(vectors=to_upsert)\n",
    "```\n",
    "    \n",
    "</p>\n",
    "</details>"
   ]
  },
  {
   "cell_type": "code",
   "execution_count": 29,
   "id": "335b231c-6871-49ff-aacf-e7fc7d0121c5",
   "metadata": {
    "executionCancelledAt": null,
    "executionTime": 110282,
    "lastExecutedAt": 1716001996495,
    "lastExecutedByKernel": "9e75850b-3e18-4e02-a641-a37c02b4177f",
    "lastScheduledRunId": null,
    "lastSuccessfullyExecutedCode": "# Loop over each batch in data_batched, adding a progress bar\nfor batch in tqdm(data_batched):\n    # Concatenate the doi and chunk-id columns separated by -, then convert to a list. \n    # Assign to ids.\n    ids = (batch[\"doi\"] + \"-\" + batch[\"chunk-id\"]).to_list()\n    \n    # Get the chunk column and convert to a list. Assign to texts.\n    texts = batch[\"chunk\"].to_list()\n    \n    # Use the embeddings model to embed the texts. Assign to embeds.\n    embeds = embed_model.embed_documents(texts)\n    \n    # Get the metadata from the batch. Assign to metadata.\n    # Select the chunk, title, source columns\n    # Apply the dict function to the columns axis\n    # Convert to a list\n    metadata = batch \\\n        [[\"chunk\", \"title\", \"source\"]] \\\n        .apply(dict, axis=\"columns\") \\\n        .to_list()\n    \n    # Combine IDs, embeddings, and metadata as list of tuples. Assign to to_upsert.\n    to_upsert = zip(ids, embeds, metadata)\n    \n    # Upsert to Pinecone\n    index.upsert(vectors=to_upsert)",
    "outputsMetadata": {
     "0": {
      "height": 38,
      "type": "stream"
     }
    }
   },
   "outputs": [
    {
     "name": "stderr",
     "output_type": "stream",
     "text": [
      "49it [03:50,  4.71s/it]\n"
     ]
    }
   ],
   "source": [
    "# Loop over each batch in data_batched, adding a progress bar\n",
    "for batch in tqdm(data_batched):\n",
    "    # Concatenate the doi and chunk-id columns separated by -, then convert to a list. \n",
    "    # Assign to ids.\n",
    "    ids = (batch[\"doi\"] + \"-\" + batch[\"chunk-id\"]).to_list()\n",
    "    \n",
    "    # Get the chunk column and convert to a list. Assign to texts.\n",
    "    texts = batch[\"chunk\"].to_list()\n",
    "    \n",
    "    # Use the embeddings model to embed the texts. Assign to embeds.\n",
    "    embeds = embed_model.embed_documents(texts)\n",
    "    \n",
    "    # Get the metadata from the batch. Assign to metadata.\n",
    "    # Select the chunk, title, source columns\n",
    "    # Apply the dict function to the columns axis\n",
    "    # Convert to a list\n",
    "    metadata = batch \\\n",
    "        [[\"chunk\", \"title\", \"source\"]] \\\n",
    "        .apply(dict, axis=\"columns\") \\\n",
    "        .to_list()\n",
    "    \n",
    "    # Combine IDs, embeddings, and metadata as list of tuples. Assign to to_upsert.\n",
    "    to_upsert = zip(ids, embeds, metadata)\n",
    "    \n",
    "    # Upsert to Pinecone\n",
    "    index.upsert(vectors=to_upsert)"
   ]
  },
  {
   "cell_type": "markdown",
   "id": "58db36f2-1ba2-4fdb-9e72-aabe8fc16882",
   "metadata": {},
   "source": [
    "We can check that the vector index has been populated using `describe_index_stats` like before:"
   ]
  },
  {
   "cell_type": "markdown",
   "id": "2235eb44-2990-4d7e-ab51-6e36263d685f",
   "metadata": {},
   "source": [
    "### Instructions\n",
    "\n",
    "Check on updates to the vector index now that it contains the ArXiv dataset.\n",
    "\n",
    "- View the index stats again.\n",
    "- *What has changed since you last looked?*"
   ]
  },
  {
   "cell_type": "code",
   "execution_count": 30,
   "id": "48aa5c57-c923-49fc-b1dd-d60f6fa26d64",
   "metadata": {
    "executionCancelledAt": null,
    "executionTime": 50,
    "lastExecutedAt": 1716001996545,
    "lastExecutedByKernel": "9e75850b-3e18-4e02-a641-a37c02b4177f",
    "lastScheduledRunId": null,
    "lastSuccessfullyExecutedCode": "# Get the index's descriptive statistics\nindex.describe_index_stats()"
   },
   "outputs": [
    {
     "data": {
      "text/plain": [
       "{'dimension': 1536,\n",
       " 'index_fullness': 0.0,\n",
       " 'namespaces': {'': {'vector_count': 4838}},\n",
       " 'total_vector_count': 4838}"
      ]
     },
     "execution_count": 30,
     "metadata": {},
     "output_type": "execute_result"
    }
   ],
   "source": [
    "# Get the index's descriptive statistics\n",
    "index.describe_index_stats()"
   ]
  },
  {
   "cell_type": "markdown",
   "id": "6b90e6fc-f627-40a2-8276-7df46b5d7155",
   "metadata": {},
   "source": [
    "## Task 5: Retrieval Augmented Generation"
   ]
  },
  {
   "cell_type": "markdown",
   "id": "946741c8-6ad8-4aa4-afe4-e3357929918b",
   "metadata": {},
   "source": [
    "In the previous task we built a fully-fledged knowledge base. Now it's time to connect that knowledge base to our chatbot. To do that we'll be diving back into LangChain and reusing our template prompt from earlier.\n",
    "\n",
    "### Workflow\n",
    "\n",
    "* Create a LangChain `vectorstore` object using our `index` and `embed_model`.\n",
    "* Try searching for relevant information about Llama 2.\n",
    "* Create a function (`augment_prompt`) that can take our query, retrieve information using the `vectorstore`, and merge them all into a single retrieval-augmented prompt.\n",
    "* Try asking the chatbot Llama 2 questions with and without RAG, comparing the differences."
   ]
  },
  {
   "cell_type": "markdown",
   "id": "320fa5d8-9642-4c7f-9a9f-9665b9c20475",
   "metadata": {},
   "source": [
    "To use LangChain's RAG pipeline we need to load the LangChain abstraction for a vector index, called a `vectorstore`. We pass in our vector `index` to initialize the object."
   ]
  },
  {
   "cell_type": "markdown",
   "id": "f35f4d72-8e2c-43d8-883c-8ff1e91b13ab",
   "metadata": {},
   "source": [
    "### Instructions\n",
    "\n",
    "Initialize the vector store object.\n",
    "\n",
    "- From the `langchain_pinecone` package, import `PineconeVectorStore`.\n",
    "- State the metadata field that contains our text (`\"chunk\"`). Assign to `text_field`.\n",
    "- Create a `PineconeVectorStore` from the index, the embedding model, and the text field. Assign to `vectorstore`."
   ]
  },
  {
   "cell_type": "code",
   "execution_count": 31,
   "id": "d91af8d9-9e0b-4246-ba92-08769b7f6017",
   "metadata": {
    "executionCancelledAt": null,
    "executionTime": 47,
    "lastExecutedAt": 1716001996592,
    "lastExecutedByKernel": "9e75850b-3e18-4e02-a641-a37c02b4177f",
    "lastScheduledRunId": null,
    "lastSuccessfullyExecutedCode": "# From the langchain_pinecone package, import PineconeVectorStore\nfrom langchain_pinecone import PineconeVectorStore\n\n# Define the metadata field that contains our text (\"chunk\"). Assign to `text_field`.\ntext_field = \"chunk\"\n\n# Create a PineconeVectorStore from the index, the embedding model, and the text field.\n# Assign to `vectorstore.\nvectorstore = PineconeVectorStore(\n    index, embed_model, text_field\n)",
    "outputsMetadata": {
     "0": {
      "height": 143,
      "type": "stream"
     }
    }
   },
   "outputs": [],
   "source": [
    "# From the langchain_pinecone package, import PineconeVectorStore\n",
    "from langchain_pinecone import PineconeVectorStore\n",
    "\n",
    "# Define the metadata field that contains our text (\"chunk\"). Assign to `text_field`.\n",
    "text_field = \"chunk\"\n",
    "\n",
    "# Create a PineconeVectorStore from the index, the embedding model, and the text field.\n",
    "# Assign to `vectorstore.\n",
    "vectorstore = PineconeVectorStore(\n",
    "    index, embed_model, text_field\n",
    ")"
   ]
  },
  {
   "cell_type": "markdown",
   "id": "e7231db5-b65e-431c-87fb-e4600b5901e1",
   "metadata": {},
   "source": [
    "Using this `vectorstore` we can already query the index and see if we have any relevant information given our question about Llama 2."
   ]
  },
  {
   "cell_type": "markdown",
   "id": "e92e91fc-f4b1-437c-a8eb-e4ee507c0b19",
   "metadata": {},
   "source": [
    "### Instructions\n",
    "\n",
    "Perform similarity search against a question.\n",
    "\n",
    "- Define a question. Assign to query.\n",
    "    - Use the text `\"What is so special about Llama 2?\"`.\n",
    "- Perform a similarity search for the query, returning the top 3 results."
   ]
  },
  {
   "cell_type": "markdown",
   "id": "5bb954e1-f283-4310-a891-9250bdf62f01",
   "metadata": {},
   "source": [
    "<details>\n",
    "<summary>Code hints</summary>\n",
    "<p>\n",
    "    \n",
    "To perform a similarity search, call the vectorstore's `.similarity_search()` method, passing the query and setting `k` to the number of results to return.\n",
    "\n",
    "</p>\n",
    "</details>"
   ]
  },
  {
   "cell_type": "code",
   "execution_count": 32,
   "id": "11343325-0736-4b08-b85b-1d4735a0402d",
   "metadata": {
    "executionCancelledAt": null,
    "executionTime": 204,
    "lastExecutedAt": 1716001996796,
    "lastExecutedByKernel": "9e75850b-3e18-4e02-a641-a37c02b4177f",
    "lastScheduledRunId": null,
    "lastSuccessfullyExecutedCode": "# Define a new question\nquery = \"What is so special about Llama 2?\"\n\n# Use similarity search, returning the top 3 results\nvectorstore.similarity_search(query, k=3)"
   },
   "outputs": [
    {
     "data": {
      "text/plain": [
       "[Document(page_content='Alan Schelten Ruan Silva Eric Michael Smith Ranjan Subramanian Xiaoqing Ellen Tan Binh Tang\\nRoss Taylor Adina Williams Jian Xiang Kuan Puxin Xu Zheng Yan Iliyan Zarov Yuchen Zhang\\nAngela Fan Melanie Kambadur Sharan Narang Aurelien Rodriguez Robert Stojnic\\nSergey Edunov Thomas Scialom\\x03\\nGenAI, Meta\\nAbstract\\nIn this work, we develop and release Llama 2, a collection of pretrained and ﬁne-tuned\\nlarge language models (LLMs) ranging in scale from 7 billion to 70 billion parameters.\\nOur ﬁne-tuned LLMs, called L/l.sc/a.sc/m.sc/a.sc /two.taboldstyle-C/h.sc/a.sc/t.sc , are optimized for dialogue use cases. Our\\nmodels outperform open-source chat models on most benchmarks we tested, and based on\\nourhumanevaluationsforhelpfulnessandsafety,maybeasuitablesubstituteforclosedsource models. We provide a detailed description of our approach to ﬁne-tuning and safety', metadata={'source': 'http://arxiv.org/pdf/2307.09288', 'title': 'Llama 2: Open Foundation and Fine-Tuned Chat Models'}),\n",
       " Document(page_content='asChatGPT,BARD,andClaude. TheseclosedproductLLMsareheavilyﬁne-tunedtoalignwithhuman\\npreferences, which greatly enhances their usability and safety. This step can require signiﬁcant costs in\\ncomputeandhumanannotation,andisoftennottransparentoreasilyreproducible,limitingprogresswithin\\nthe community to advance AI alignment research.\\nIn this work, we develop and release Llama 2, a family of pretrained and ﬁne-tuned LLMs, L/l.sc/a.sc/m.sc/a.sc /two.taboldstyle and\\nL/l.sc/a.sc/m.sc/a.sc /two.taboldstyle-C/h.sc/a.sc/t.sc , at scales up to 70B parameters. On the series of helpfulness and safety benchmarks we tested,\\nL/l.sc/a.sc/m.sc/a.sc /two.taboldstyle-C/h.sc/a.sc/t.sc models generally perform better than existing open-source models. They also appear to\\nbe on par with some of the closed-source models, at least on the human evaluations we performed (see', metadata={'source': 'http://arxiv.org/pdf/2307.09288', 'title': 'Llama 2: Open Foundation and Fine-Tuned Chat Models'}),\n",
       " Document(page_content='Baptiste Rozière, Naman Goyal, Eric Hambro, Faisal Azhar, Aur’elien Rodriguez, Armand Joulin, Edouard\\nGrave, and Guillaume Lample. Llama: Open and eﬃcient foundation language models. arXiv preprint\\narXiv:2302.13971 , 2023.\\nAshish Vaswani, Noam Shazeer, Niki Parmar, Jakob Uszkoreit, Llion Jones, Aidan N. Gomez, Lukasz Kaiser,\\nand Illia Polosukhin. Attention is all you need, 2017.\\nOriol Vinyals, Igor Babuschkin, Wojciech M Czarnecki, Michaël Mathieu, Andrew Dudzik, Junyoung Chung,\\nDavid H Choi, Richard Powell, Timo Ewalds, Petko Georgiev, et al. Grandmaster level in starcraft ii using\\nmulti-agent reinforcement learning. Nature, 575(7782):350–354, 2019.\\nYizhong Wang, Yeganeh Kordi, Swaroop Mishra, Alisa Liu, Noah A Smith, Daniel Khashabi, and HannanehHajishirzi. Self-instruct: Aligninglanguagemodel withselfgeneratedinstructions. arXivpreprint', metadata={'source': 'http://arxiv.org/pdf/2307.09288', 'title': 'Llama 2: Open Foundation and Fine-Tuned Chat Models'})]"
      ]
     },
     "execution_count": 32,
     "metadata": {},
     "output_type": "execute_result"
    }
   ],
   "source": [
    "# Define a new question\n",
    "query = \"What is so special about Llama 2?\"\n",
    "\n",
    "# Use similarity search, returning the top 3 results\n",
    "vectorstore.similarity_search(query, k=3)"
   ]
  },
  {
   "cell_type": "markdown",
   "id": "a4c5d7a5-9429-4d85-b8a5-f85aa9ae8654",
   "metadata": {},
   "source": [
    "We return a lot of text here and it's not that clear what we need or what is relevant. Fortunately, our LLM will be able to parse this information much faster than us. All we need is to connect the output from our `vectorstore` to our `chat` chatbot. To do that we can use the same logic as we used earlier."
   ]
  },
  {
   "cell_type": "markdown",
   "id": "ed80b668-6796-4795-8138-711e0325f050",
   "metadata": {},
   "source": [
    "### Instructions\n",
    "\n",
    "Run the code to define a function to augment a prompt with knowledge base results."
   ]
  },
  {
   "cell_type": "code",
   "execution_count": 33,
   "id": "19b86b04-9630-4fb8-a4f9-9f5b38300623",
   "metadata": {
    "executionCancelledAt": null,
    "executionTime": 48,
    "lastExecutedAt": 1716001996844,
    "lastExecutedByKernel": "9e75850b-3e18-4e02-a641-a37c02b4177f",
    "lastScheduledRunId": null,
    "lastSuccessfullyExecutedCode": "# Define this function to augment the prompt with data from the vector database\ndef augment_prompt(query: str):\n    results = vectorstore.similarity_search(query, k=3)\n    source_knowledge = \"\\n\".join([x.page_content for x in results])\n    augmented_prompt = f\"\"\"Using the contexts below, answer the query. If some information is not provided within\nthe contexts below, do not include, and if the query cannot be answered with the below information, say \"I don't know\".\n\nContexts:\n{source_knowledge}\n\nQuery: {query}\"\"\"\n    return augmented_prompt"
   },
   "outputs": [],
   "source": [
    "# Define this function to augment the prompt with data from the vector database\n",
    "def augment_prompt(query: str):\n",
    "    results = vectorstore.similarity_search(query, k=3)\n",
    "    source_knowledge = \"\\n\".join([x.page_content for x in results])\n",
    "    augmented_prompt = f\"\"\"Using the contexts below, answer the query. If some information is not provided within\n",
    "the contexts below, do not include, and if the query cannot be answered with the below information, say \"I don't know\".\n",
    "\n",
    "Contexts:\n",
    "{source_knowledge}\n",
    "\n",
    "Query: {query}\"\"\"\n",
    "    return augmented_prompt"
   ]
  },
  {
   "cell_type": "markdown",
   "id": "b4a4f1a7-5d0b-4e7f-ab38-fbada51ba1d8",
   "metadata": {},
   "source": [
    "Using this we produce an augmented prompt:"
   ]
  },
  {
   "cell_type": "code",
   "execution_count": 34,
   "id": "0ba045f5-88d7-4ce3-9ae6-e96cafa96e02",
   "metadata": {
    "executionCancelledAt": null,
    "executionTime": 202,
    "lastExecutedAt": 1716001997046,
    "lastExecutedByKernel": "9e75850b-3e18-4e02-a641-a37c02b4177f",
    "lastScheduledRunId": null,
    "lastSuccessfullyExecutedCode": "# Print the augmented prompt for the query about Llama 2\nprint(augment_prompt(query))",
    "outputsMetadata": {
     "0": {
      "height": 579,
      "type": "stream"
     }
    }
   },
   "outputs": [
    {
     "name": "stdout",
     "output_type": "stream",
     "text": [
      "Using the contexts below, answer the query. If some information is not provided within\n",
      "the contexts below, do not include, and if the query cannot be answered with the below information, say \"I don't know\".\n",
      "\n",
      "Contexts:\n",
      "Alan Schelten Ruan Silva Eric Michael Smith Ranjan Subramanian Xiaoqing Ellen Tan Binh Tang\n",
      "Ross Taylor Adina Williams Jian Xiang Kuan Puxin Xu Zheng Yan Iliyan Zarov Yuchen Zhang\n",
      "Angela Fan Melanie Kambadur Sharan Narang Aurelien Rodriguez Robert Stojnic\n",
      "Sergey Edunov Thomas Scialom\u0003\n",
      "GenAI, Meta\n",
      "Abstract\n",
      "In this work, we develop and release Llama 2, a collection of pretrained and ﬁne-tuned\n",
      "large language models (LLMs) ranging in scale from 7 billion to 70 billion parameters.\n",
      "Our ﬁne-tuned LLMs, called L/l.sc/a.sc/m.sc/a.sc /two.taboldstyle-C/h.sc/a.sc/t.sc , are optimized for dialogue use cases. Our\n",
      "models outperform open-source chat models on most benchmarks we tested, and based on\n",
      "ourhumanevaluationsforhelpfulnessandsafety,maybeasuitablesubstituteforclosedsource models. We provide a detailed description of our approach to ﬁne-tuning and safety\n",
      "asChatGPT,BARD,andClaude. TheseclosedproductLLMsareheavilyﬁne-tunedtoalignwithhuman\n",
      "preferences, which greatly enhances their usability and safety. This step can require signiﬁcant costs in\n",
      "computeandhumanannotation,andisoftennottransparentoreasilyreproducible,limitingprogresswithin\n",
      "the community to advance AI alignment research.\n",
      "In this work, we develop and release Llama 2, a family of pretrained and ﬁne-tuned LLMs, L/l.sc/a.sc/m.sc/a.sc /two.taboldstyle and\n",
      "L/l.sc/a.sc/m.sc/a.sc /two.taboldstyle-C/h.sc/a.sc/t.sc , at scales up to 70B parameters. On the series of helpfulness and safety benchmarks we tested,\n",
      "L/l.sc/a.sc/m.sc/a.sc /two.taboldstyle-C/h.sc/a.sc/t.sc models generally perform better than existing open-source models. They also appear to\n",
      "be on par with some of the closed-source models, at least on the human evaluations we performed (see\n",
      "Baptiste Rozière, Naman Goyal, Eric Hambro, Faisal Azhar, Aur’elien Rodriguez, Armand Joulin, Edouard\n",
      "Grave, and Guillaume Lample. Llama: Open and eﬃcient foundation language models. arXiv preprint\n",
      "arXiv:2302.13971 , 2023.\n",
      "Ashish Vaswani, Noam Shazeer, Niki Parmar, Jakob Uszkoreit, Llion Jones, Aidan N. Gomez, Lukasz Kaiser,\n",
      "and Illia Polosukhin. Attention is all you need, 2017.\n",
      "Oriol Vinyals, Igor Babuschkin, Wojciech M Czarnecki, Michaël Mathieu, Andrew Dudzik, Junyoung Chung,\n",
      "David H Choi, Richard Powell, Timo Ewalds, Petko Georgiev, et al. Grandmaster level in starcraft ii using\n",
      "multi-agent reinforcement learning. Nature, 575(7782):350–354, 2019.\n",
      "Yizhong Wang, Yeganeh Kordi, Swaroop Mishra, Alisa Liu, Noah A Smith, Daniel Khashabi, and HannanehHajishirzi. Self-instruct: Aligninglanguagemodel withselfgeneratedinstructions. arXivpreprint\n",
      "\n",
      "Query: What is so special about Llama 2?\n"
     ]
    }
   ],
   "source": [
    "# Print the augmented prompt for the query about Llama 2\n",
    "print(augment_prompt(query))"
   ]
  },
  {
   "cell_type": "markdown",
   "id": "5be7c70d-a1c2-414b-b09b-afbc046503df",
   "metadata": {},
   "source": [
    "There is still a lot of text here, so let's pass it onto our chat model to see how it performs."
   ]
  },
  {
   "cell_type": "markdown",
   "id": "bafc0318-25bc-49f6-b9d8-aed3683ee2c4",
   "metadata": {},
   "source": [
    "### Instructions\n",
    "\n",
    "Ask GPT about LLama2, augmenting the prompt with source knowledge from the Pinecone vector index.\n",
    "\n",
    "- Create a new human message. Assign to `prompt`.\n",
    "    - Call `augment_prompt()` on the query and use this as the content.\n",
    "- Append the prompt to `messages`.\n",
    "- Send the messages to GPT. Assign to `res`.\n",
    "- Print the contents of the response."
   ]
  },
  {
   "cell_type": "code",
   "execution_count": 35,
   "id": "6f70d2a0-d5af-448b-8f00-0aec873ac250",
   "metadata": {
    "executionCancelledAt": null,
    "executionTime": 4199,
    "lastExecutedAt": 1716002001245,
    "lastExecutedByKernel": "9e75850b-3e18-4e02-a641-a37c02b4177f",
    "lastScheduledRunId": null,
    "lastSuccessfullyExecutedCode": "# Define the augmented prompt as a human message. Assign to prompt.\nprompt = HumanMessage(content=augment_prompt(query))\n\n# Append the prompt the the list of messages\nmessages.append(prompt)\n\n# Invoke a chat with the list of messages\nres = chat.invoke(messages)\n\n# Print the contents of the response\nprint(res.content)",
    "outputsMetadata": {
     "0": {
      "height": 227,
      "type": "stream"
     }
    }
   },
   "outputs": [
    {
     "name": "stdout",
     "output_type": "stream",
     "text": [
      "Llama 2 is special because it is a collection of pretrained and fine-tuned large language models (LLMs) developed by Meta, ranging in scale from 7 billion to 70 billion parameters. The fine-tuned LLMs are optimized for dialogue use cases and outperform open-source chat models on most benchmarks tested. They are also noted to be suitable substitutes for closed-source models based on evaluations for helpfulness and safety. Llama 2 includes models that generally perform better than existing open-source models in terms of helpfulness and safety, and they appear to be on par with some closed-source models, particularly in human evaluations. Additionally, the work provides a detailed description of the fine-tuning and safety approaches used, which is significant for advancing AI alignment research.\n"
     ]
    }
   ],
   "source": [
    "# Define the augmented prompt as a human message. Assign to prompt.\n",
    "prompt = HumanMessage(content=augment_prompt(query))\n",
    "\n",
    "# Append the prompt the the list of messages\n",
    "messages.append(prompt)\n",
    "\n",
    "# Invoke a chat with the list of messages\n",
    "res = chat.invoke(messages)\n",
    "\n",
    "# Print the contents of the response\n",
    "print(res.content)"
   ]
  },
  {
   "cell_type": "markdown",
   "id": "f3547c02-31ea-4847-8042-7095d22a0fe9",
   "metadata": {},
   "source": [
    "We can continue with more Llama 2 questions. Let's try _without_ RAG first:"
   ]
  },
  {
   "cell_type": "markdown",
   "id": "b38ac3b3-efdd-43f5-99d5-0582745e0de0",
   "metadata": {},
   "source": [
    "### Instructions\n",
    "\n",
    "Ask GPT about LLama 2.\n",
    "\n",
    "- Create a new human message. Assign to `prompt`.\n",
    "    - Use the context `\"What safety measures were used in the development of llama 2?\"`.\n",
    "- Invoke a chat with GPT sending the messages plus the prompt. Assign to `res`.\n",
    "    - *Don't use `.append()` here, as we don't want to store the latest message in the conversation. The prompt needs to be converted to a list to add it to the existing list.*\n",
    "- Print the contents of the response."
   ]
  },
  {
   "cell_type": "code",
   "execution_count": 36,
   "id": "00e797e1-5526-416b-be41-88925fa14960",
   "metadata": {
    "executionCancelledAt": null,
    "executionTime": 684,
    "lastExecutedAt": 1716002001929,
    "lastExecutedByKernel": "9e75850b-3e18-4e02-a641-a37c02b4177f",
    "lastScheduledRunId": null,
    "lastSuccessfullyExecutedCode": "# Create a new human message. Assign to prompt.\nprompt = HumanMessage(\n    content=\"What safety measures were used in the development of llama 2?\"\n)\n\n# Invoke a chat with GPT sending the messages plus the prompt to GPT. \n# Assign to res. Don't use .append()!\nres = chat.invoke(messages + [prompt])\n\n# Print the contents of the response.\nprint(res.content)",
    "outputsMetadata": {
     "0": {
      "height": 38,
      "type": "stream"
     },
     "1": {
      "height": 332,
      "type": "stream"
     }
    }
   },
   "outputs": [
    {
     "name": "stdout",
     "output_type": "stream",
     "text": [
      "The contexts provided mention that Llama 2 models have been optimized for dialogue use cases and that they outperform open-source chat models on most tested benchmarks. Additionally, it states that the models are designed based on human evaluations for helpfulness and safety, suggesting that they may be suitable substitutes for closed-source models.\n",
      "\n",
      "However, the specific safety measures used in the development of Llama 2 are not detailed in the provided contexts. Therefore, I cannot provide specific information about the safety measures implemented during its development.\n"
     ]
    }
   ],
   "source": [
    "# Create a new human message. Assign to prompt.\n",
    "prompt = HumanMessage(\n",
    "    content=\"What safety measures were used in the development of llama 2?\"\n",
    ")\n",
    "\n",
    "# Invoke a chat with GPT sending the messages plus the prompt to GPT. \n",
    "# Assign to res. Don't use .append()!\n",
    "res = chat.invoke(messages + [prompt])\n",
    "\n",
    "# Print the contents of the response.\n",
    "print(res.content)"
   ]
  },
  {
   "cell_type": "markdown",
   "id": "8ea55fa4-c8a5-436e-8934-8d90a4002c57",
   "metadata": {},
   "source": [
    "The chatbot is able to respond about Llama 2 thanks to it's conversational history stored in `messages`. However, it doesn't know anything about the safety measures themselves as we have not provided it with that information via the RAG pipeline. Let's try again but with RAG."
   ]
  },
  {
   "cell_type": "markdown",
   "id": "12908e8d-c959-44f0-b136-04dc84c8a4b7",
   "metadata": {},
   "source": [
    "### Maintenance note, May 2024\n",
    "\n",
    "GPT knows much more about Llama 2 than it did when this code-along was first created. Use your imagination and pretend that response was worse than it actually was."
   ]
  },
  {
   "cell_type": "markdown",
   "id": "31afe145-f1de-4ddf-abba-051144d6d3bc",
   "metadata": {},
   "source": [
    "### Instructions\n",
    "\n",
    "Ask GPT about LLama 2 again.\n",
    "\n",
    "- Do the same thing again, but this time augment the prompt using `augment_prompt()`."
   ]
  },
  {
   "cell_type": "code",
   "execution_count": 37,
   "id": "412a5fb9-5bbb-46cd-8636-6bcb7f575605",
   "metadata": {
    "executionCancelledAt": null,
    "executionTime": 2395,
    "lastExecutedAt": 1716002004324,
    "lastExecutedByKernel": "9e75850b-3e18-4e02-a641-a37c02b4177f",
    "lastScheduledRunId": null,
    "lastSuccessfullyExecutedCode": "# Create another human message with the same question, augmenting the prompt\nprompt = HumanMessage(\n    content=augment_prompt(\"What safety measures were used in the development of llama 2?\")\n)\n\n# Invoke a chat with the list of messages + the latest prompt\nres = chat.invoke(messages + [prompt])\n\n# Print the contents of the response\nprint(res.content)",
    "outputsMetadata": {
     "0": {
      "height": 143,
      "type": "stream"
     }
    }
   },
   "outputs": [
    {
     "name": "stdout",
     "output_type": "stream",
     "text": [
      "In the development of Llama 2, several safety measures were taken, including:\n",
      "\n",
      "1. **Safety-Specific Data Annotation and Tuning**: The models were tuned using data specifically annotated for safety purposes.\n",
      "\n",
      "2. **Red-Teaming**: This involves testing the models in adversarial scenarios to identify potential vulnerabilities and areas for improvement.\n",
      "\n",
      "3. **Iterative Evaluations**: The models underwent multiple rounds of evaluation to assess and enhance their safety features.\n",
      "\n",
      "These measures were aimed at improving the safety of the models and ensuring they align better with human preferences.\n"
     ]
    }
   ],
   "source": [
    "# Create another human message with the same question, augmenting the prompt\n",
    "prompt = HumanMessage(\n",
    "    content=augment_prompt(\"What safety measures were used in the development of llama 2?\")\n",
    ")\n",
    "\n",
    "# Invoke a chat with the list of messages + the latest prompt\n",
    "res = chat.invoke(messages + [prompt])\n",
    "\n",
    "# Print the contents of the response\n",
    "print(res.content)"
   ]
  },
  {
   "cell_type": "markdown",
   "id": "e79d11dd-338b-4732-8315-7434a4e82d48",
   "metadata": {},
   "source": [
    "We get a much better informed response that includes several items missing in the previous non-RAG response, such as \"red-teaming\", \"iterative evaluations\", and the intention of the researchers to share this research to help \"improve their safety, promoting responsible development in the field\"."
   ]
  },
  {
   "cell_type": "markdown",
   "id": "ecea5aba-3a90-4655-9efa-425bc880e0cc",
   "metadata": {},
   "source": [
    "## Summary\n",
    "\n",
    "You built a chatbot that can answer questions about cutting edge large language models!\n",
    "\n",
    "In particular, you\n",
    "\n",
    "- learned how to have a conversation with GPT by appending messages.\n",
    "- saw how to provide context in a prompt to help GPT answer questions.\n",
    "- setup a Pinecone database and added data to a vector index.\n",
    "- retrieved text relevant to user questions.\n",
    "- combined it all to create a chatbot that answered questions that GPT could not answer by itself."
   ]
  }
 ],
 "metadata": {
  "colab": {
   "name": "Welcome to DataCamp Workspaces.ipynb",
   "provenance": []
  },
  "editor": "DataLab",
  "kernelspec": {
   "display_name": "Python 3",
   "language": "python",
   "name": "python3"
  },
  "language_info": {
   "codemirror_mode": {
    "name": "ipython",
    "version": 3
   },
   "file_extension": ".py",
   "mimetype": "text/x-python",
   "name": "python",
   "nbconvert_exporter": "python",
   "pygments_lexer": "ipython3",
   "version": "3.12.6"
  }
 },
 "nbformat": 4,
 "nbformat_minor": 5
}
